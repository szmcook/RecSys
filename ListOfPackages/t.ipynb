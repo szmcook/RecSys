{
 "cells": [
  {
   "cell_type": "code",
   "execution_count": null,
   "metadata": {},
   "outputs": [
    {
     "ename": "",
     "evalue": "",
     "output_type": "error",
     "traceback": [
      "\u001b[1;31mFailed to start the Kernel. \n",
      "The Jupyter notebook server failed to launch in time. \n",
      "View Jupyter <a href='command:jupyter.viewOutput'>log</a> for further details."
     ]
    }
   ],
   "source": [
    "import gensim\n",
    "import implicit\n",
    "import lightfm\n",
    "import matplotlib\n",
    "import nltk\n",
    "import numpy\n",
    "import pandas\n",
    "import sklearn\n",
    "import surprise\n",
    "import scipy\n",
    "import seaborn\n",
    "import tensorflow\n",
    "import tensorflow_recommenders\n",
    "import torch"
   ]
  }
 ],
 "metadata": {
  "interpreter": {
   "hash": "7b69c4989aea567e73d9997234053f686bfd68ffa5d881bc3b186790baddb630"
  },
  "kernelspec": {
   "display_name": "Python 3.8.10 64-bit ('.rs': venv)",
   "language": "python",
   "name": "python3"
  },
  "language_info": {
   "name": "python",
   "version": "3.8.10"
  },
  "orig_nbformat": 4
 },
 "nbformat": 4,
 "nbformat_minor": 2
}
