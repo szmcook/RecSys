{
 "cells": [
  {
   "cell_type": "markdown",
   "metadata": {},
   "source": [
    "# Data Preparation"
   ]
  },
  {
   "cell_type": "code",
   "execution_count": null,
   "metadata": {},
   "outputs": [],
   "source": [
    "import pandas as pd\n",
    "from surprise import Reader, Dataset, SVD\n",
    "from collections import defaultdict\n",
    "from surprise.model_selection import KFold\n",
    "import numpy as np"
   ]
  },
  {
   "cell_type": "code",
   "execution_count": null,
   "metadata": {},
   "outputs": [],
   "source": [
    "recipes = pd.read_csv(\"data/RAW_recipes.csv\")\n",
    "ratings = pd.read_csv(\"data/RAW_interactions.csv\")\n",
    "\n",
    "print(f\"recipes shape: {recipes.shape} and headings: {recipes.columns}\")\n",
    "print(f\"ratings shape: {ratings.shape} and headings: {ratings.columns}\")"
   ]
  },
  {
   "cell_type": "markdown",
   "metadata": {},
   "source": [
    "Create the ratings matrix R\n",
    "\n",
    "- each recipe has an id\n",
    "for each recipe make a new row\n",
    "- each review is associated with a recipe_id and was made by a user\n",
    "for each review, find the row and store the rating in the column for the user. if the column doesn't exist then make a new one.\n",
    "\n",
    "There's a lot of looking up so hopefully a dictionary like structure can be used with fast random access."
   ]
  },
  {
   "cell_type": "code",
   "execution_count": null,
   "metadata": {},
   "outputs": [],
   "source": [
    "# Create CF ratings matrix R\n",
    "df_UI = ratings.merge(recipes, how='left', left_on='recipe_id', right_on = 'id')\n",
    "\n",
    "df_UI = df_UI[['user_id', 'recipe_id', 'rating']]\n",
    "\n",
    "df_UI.head()"
   ]
  },
  {
   "cell_type": "markdown",
   "metadata": {},
   "source": [
    "# Matrix Formation"
   ]
  },
  {
   "cell_type": "code",
   "execution_count": null,
   "metadata": {},
   "outputs": [],
   "source": [
    "reader = Reader(rating_scale=(0, 5))\n",
    "\n",
    "# The columns must correspond to user id, item id and ratings (in that order).\n",
    "data = Dataset.load_from_df(df_UI[['user_id', 'recipe_id', 'rating']], reader)"
   ]
  },
  {
   "cell_type": "markdown",
   "metadata": {},
   "source": [
    "# Matrix Factorisation"
   ]
  },
  {
   "cell_type": "markdown",
   "metadata": {},
   "source": [
    "## Helper Functions"
   ]
  },
  {
   "cell_type": "code",
   "execution_count": null,
   "metadata": {},
   "outputs": [],
   "source": [
    "def precision_recall_at_k(predictions, k=10, threshold=3.5):\n",
    "    '''Return precision and recall at k metrics for each user.'''\n",
    "\n",
    "    # First map the predictions to each user.\n",
    "    user_est_true = defaultdict(list)\n",
    "    for uid, _, true_r, est, _ in predictions:\n",
    "        user_est_true[uid].append((est, true_r))\n",
    "\n",
    "    precisions = dict()\n",
    "    recalls = dict()\n",
    "    for uid, user_ratings in user_est_true.items():\n",
    "\n",
    "        # Sort user ratings by estimated value\n",
    "        user_ratings.sort(key=lambda x: x[0], reverse=True)\n",
    "\n",
    "        # Number of relevant items\n",
    "        n_rel = sum((true_r >= threshold) for (_, true_r) in user_ratings)\n",
    "\n",
    "        # Number of recommended items in top k\n",
    "        n_rec_k = sum((est >= threshold) for (est, _) in user_ratings[:k])\n",
    "\n",
    "        # Number of relevant and recommended items in top k\n",
    "        n_rel_and_rec_k = sum(((true_r >= threshold) and (est >= threshold))\n",
    "                              for (est, true_r) in user_ratings[:k])\n",
    "\n",
    "        # Precision@K: Proportion of recommended items that are relevant\n",
    "        precisions[uid] = n_rel_and_rec_k / n_rec_k if n_rec_k != 0 else 1\n",
    "\n",
    "        # Recall@K: Proportion of relevant items that are recommended\n",
    "        recalls[uid] = n_rel_and_rec_k / n_rel if n_rel != 0 else 1\n",
    "\n",
    "    return precisions, recalls"
   ]
  },
  {
   "cell_type": "markdown",
   "metadata": {},
   "source": [
    "## SVD"
   ]
  },
  {
   "cell_type": "code",
   "execution_count": null,
   "metadata": {},
   "outputs": [],
   "source": [
    "model = SVD(verbose=True)"
   ]
  },
  {
   "cell_type": "code",
   "execution_count": null,
   "metadata": {},
   "outputs": [],
   "source": [
    "kf = KFold(n_splits=5)\n",
    "precision_kfold = []\n",
    "recall_kfold = []\n",
    "\n",
    "for trainset, testset in kf.split(data):\n",
    "    model.fit(trainset)\n",
    "    predictions = model.test(testset)\n",
    "    precisions, recalls = precision_recall_at_k(predictions, k=10, threshold=3.5)\n",
    "\n",
    "    # Precision and recall can then be averaged over all users\n",
    "    precision_kfold.append(sum(prec for prec in precisions.values()) / len(precisions))\n",
    "    recall_kfold.append(sum(rec for rec in recalls.values()) / len(recalls))"
   ]
  },
  {
   "cell_type": "markdown",
   "metadata": {},
   "source": [
    "# Producing Recommendations"
   ]
  },
  {
   "cell_type": "code",
   "execution_count": null,
   "metadata": {},
   "outputs": [],
   "source": [
    "recipes_names = dict([(rep_id,name) for name,rep_id in zip(recipes.name,recipes.id)])\n",
    "\n",
    "# print(recipes_names.keys())"
   ]
  },
  {
   "cell_type": "code",
   "execution_count": 35,
   "metadata": {},
   "outputs": [
    {
     "name": "stdout",
     "output_type": "stream",
     "text": [
      "[231623 231624 231625 231626 231627 231628 231629 231630 231631 231632]\n"
     ]
    }
   ],
   "source": [
    "r_ids = [23, 56, 34, 111]; uid = 226571; n = 10\n",
    "\n",
    "uid = 3\n",
    "\n",
    "# def get_n_predictions(iids, uid, model, n = 10):\n",
    "iid_to_test = [r_id for r_id in range(231637) if r_id not in r_ids]\n",
    "test_set = [[uid,r_id,4.] for r_id in iid_to_test]\n",
    "\n",
    "predictions = model.test(test_set)\n",
    "pred_ratings = [pred.est for pred in predictions]\n",
    "\n",
    "# return top_n indices\n",
    "top_n = np.argpartition(pred_ratings,1)[-n:]\n",
    "print(top_n)\n",
    "# results = [recipes_names[i] for i in top_n]\n",
    "# return results"
   ]
  },
  {
   "cell_type": "code",
   "execution_count": 36,
   "metadata": {},
   "outputs": [
    {
     "data": {
      "text/plain": [
       "Prediction(uid=3, iid=103, r_ui=4.0, est=4.411162895438098, details={'was_impossible': False})"
      ]
     },
     "execution_count": 36,
     "metadata": {},
     "output_type": "execute_result"
    }
   ],
   "source": [
    "type(predictions)\n",
    "predictions[100]"
   ]
  }
 ],
 "metadata": {
  "interpreter": {
   "hash": "7b69c4989aea567e73d9997234053f686bfd68ffa5d881bc3b186790baddb630"
  },
  "kernelspec": {
   "display_name": "Python 3.8.10 64-bit ('.rs': venv)",
   "language": "python",
   "name": "python3"
  },
  "language_info": {
   "codemirror_mode": {
    "name": "ipython",
    "version": 3
   },
   "file_extension": ".py",
   "mimetype": "text/x-python",
   "name": "python",
   "nbconvert_exporter": "python",
   "pygments_lexer": "ipython3",
   "version": "3.8.10"
  },
  "orig_nbformat": 4
 },
 "nbformat": 4,
 "nbformat_minor": 2
}
