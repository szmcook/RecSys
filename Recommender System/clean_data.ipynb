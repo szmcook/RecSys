{
  "cells": [
    {
      "cell_type": "code",
      "execution_count": 1,
      "metadata": {},
      "outputs": [
        {
          "name": "stdout",
          "output_type": "stream",
          "text": [
            "rows in recipes: 231637, rows in interactions: 1132367\n"
          ]
        }
      ],
      "source": [
        "# Script to clean the data for processing in both recommender systems\n",
        "\n",
        "import pandas as pd\n",
        "import numpy as np\n",
        "\n",
        "recipes = pd.read_csv(\"../data-recipes/RAW_recipes.csv\")\n",
        "interactions = pd.read_csv(\"../data-recipes/RAW_interactions.csv\")\n",
        "print(f\"rows in recipes: {recipes.shape[0]}, rows in interactions: {interactions.shape[0]}\")\n",
        "# Drop unneccessary columns\n",
        "\n",
        "# Rename columns\n",
        "recipes = recipes.rename(columns={\"id\":\"item_id\"})\n",
        "interactions = interactions.rename(columns={\"recipe_id\":\"item_id\"})\n",
        "\n",
        "# Fill in 0s or empty strings\n",
        "recipes.dropna(inplace=True)\n",
        "interactions.dropna(inplace=True)\n",
        "\n",
        "# Reduce the size of the datasets\n",
        "rows = 30000\n",
        "recipes = recipes.sample(rows, random_state=42)\n",
        "interactions = interactions.loc[interactions['item_id'].isin(recipes['item_id'])]"
      ]
    },
    {
      "cell_type": "code",
      "execution_count": 2,
      "metadata": {},
      "outputs": [
        {
          "data": {
            "text/plain": [
              "(146267, 5)"
            ]
          },
          "execution_count": 2,
          "metadata": {},
          "output_type": "execute_result"
        }
      ],
      "source": [
        "interactions.shape"
      ]
    },
    {
      "cell_type": "code",
      "execution_count": 3,
      "metadata": {},
      "outputs": [],
      "source": [
        "# Keep only interactions from users with at least n interactions\n",
        "n = 5\n",
        "users_interactions_count = interactions.groupby(['user_id', 'item_id']).size().groupby('user_id').size()\n",
        "users_with_enough_interactions = users_interactions_count[users_interactions_count >= n].reset_index()[['user_id']]\n",
        "interactions_filtered = interactions.merge(users_with_enough_interactions, how = 'right', left_on = 'user_id', right_on = 'user_id')"
      ]
    },
    {
      "cell_type": "code",
      "execution_count": 4,
      "metadata": {},
      "outputs": [],
      "source": [
        "# Keep only recipes which appear in the interactions\n",
        "recipes_filtered = recipes[recipes['item_id'].isin(interactions_filtered['item_id'])]"
      ]
    },
    {
      "cell_type": "code",
      "execution_count": 5,
      "metadata": {},
      "outputs": [
        {
          "name": "stdout",
          "output_type": "stream",
          "text": [
            "rows in clean_recipes: 30000, rows in clean_interactions: 146267\n"
          ]
        }
      ],
      "source": [
        "print(f\"rows in clean_recipes: {recipes_filtered.shape[0]}, rows in clean_interactions: {interactions_filtered.shape[0]}\")\n",
        "\n",
        "# Save the datasets for use by the RSes\n",
        "recipes_filtered.to_csv(\"data/clean_recipes.csv\", index=False)\n",
        "interactions_filtered.to_csv(\"data/clean_interactions.csv\",  index=False)"
      ]
    }
  ],
  "metadata": {
    "anaconda-cloud": {},
    "kernelspec": {
      "display_name": "Python 3",
      "language": "python",
      "name": "python3"
    },
    "language_info": {
      "codemirror_mode": {
        "name": "ipython",
        "version": 3
      },
      "file_extension": ".py",
      "mimetype": "text/x-python",
      "name": "python",
      "nbconvert_exporter": "python",
      "pygments_lexer": "ipython3",
      "version": "3.8.10"
    }
  },
  "nbformat": 4,
  "nbformat_minor": 4
}
