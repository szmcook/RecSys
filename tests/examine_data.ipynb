{
 "cells": [
  {
   "cell_type": "markdown",
   "metadata": {},
   "source": [
    "# 0\n",
    "I've got a few interesting datasets, to do well in the coursework I want to implement some pretty complicated techniques so I'm going to need some pretty complicated datasets.\n",
    "\n",
    "Requirements:\n",
    "- Density\n",
    "- Many reviews\n",
    "- Feature data\n",
    "- Contextual data\n",
    "- Implicit data\n"
   ]
  },
  {
   "cell_type": "code",
   "execution_count": 3,
   "metadata": {},
   "outputs": [],
   "source": [
    "import pandas as pd"
   ]
  },
  {
   "cell_type": "markdown",
   "metadata": {},
   "source": [
    "## 1.1 Beer reviews\n",
    "Pros\n",
    "+ Feature data\n",
    "+ Many reviews\n",
    "\n",
    "Mediums\n",
    "* Temporal context data\n",
    "\n",
    "Cons\n",
    "- Density\n",
    "- Implicit data"
   ]
  },
  {
   "cell_type": "code",
   "execution_count": null,
   "metadata": {},
   "outputs": [],
   "source": [
    "beer_reviews = pd.read_csv('../data-beer-reviews/beer_reviews.csv')\n",
    "# beer_reviews.head()"
   ]
  },
  {
   "cell_type": "code",
   "execution_count": null,
   "metadata": {},
   "outputs": [],
   "source": [
    "print(f\"number of reviews: {beer_reviews.shape}\")\n",
    "print(f\"columns: {list(beer_reviews.columns)}\")\n",
    "print(f\"unique items: {len(pd.unique(beer_reviews.beer_name))}\")\n",
    "print(f\"unique reviewers: {len(pd.unique(beer_reviews.review_profilename))}\")\n",
    "print(f\"Sparsity: {round(100*beer_reviews.shape[0] / (len(pd.unique(beer_reviews.beer_name)) * len(pd.unique(beer_reviews.review_profilename))), 3)}%\")"
   ]
  },
  {
   "cell_type": "markdown",
   "metadata": {},
   "source": [
    "## 1.2 Beer, Liquor and Wine reviews\n",
    "Pros\n",
    "+ Density\n",
    "+ Contextual data (time, location)\n",
    "+ Implicit data\n",
    "\n",
    "Mediums\n",
    "* Feature data\n",
    "\n",
    "Cons\n",
    "- Number of reviews"
   ]
  },
  {
   "cell_type": "code",
   "execution_count": null,
   "metadata": {},
   "outputs": [],
   "source": [
    "b_l_w1 = pd.read_csv('../data-beer-liquor-wine/wine reviews.csv')\n",
    "b_l_w2 = pd.read_csv('../data-beer-liquor-wine/447_1.csv').drop(columns=['primaryCategories', 'quantities'])\n",
    "blw = pd.concat([b_l_w1, b_l_w2])\n",
    "# blw.head()"
   ]
  },
  {
   "cell_type": "code",
   "execution_count": null,
   "metadata": {},
   "outputs": [],
   "source": [
    "print(f\"number of reviews: {blw.shape}\")\n",
    "print(f\"columns: {list(blw.columns)}\")\n",
    "print(f\"unique items: {len(pd.unique(blw.name))}\")\n",
    "print(f\"unique reviewers: {len(pd.unique(blw['reviews.username']))}\")\n",
    "print(f\"Sparsity: {round(100*blw.shape[0] / (len(pd.unique(blw.name)) * len(pd.unique(blw['reviews.username']))), 3)}%\")"
   ]
  },
  {
   "cell_type": "markdown",
   "metadata": {},
   "source": [
    "## 1.3 Beers and Breweries reviews\n",
    "Pros\n",
    "+ Many reviews\n",
    "\n",
    "Mediums\n",
    "* Temporal context data\n",
    "\n",
    "Cons\n",
    "- Feature data\n",
    "- Implicit data\n",
    "- Density"
   ]
  },
  {
   "cell_type": "code",
   "execution_count": null,
   "metadata": {},
   "outputs": [],
   "source": [
    "beers = pd.read_csv('../data-beers-breweries-reviews/beers.csv')\n",
    "breweries = pd.read_csv('../data-beers-breweries-reviews/breweries.csv')\n",
    "reviews = pd.read_csv('../data-beers-breweries-reviews/reviews.csv')\n",
    "# reviews.head()"
   ]
  },
  {
   "cell_type": "code",
   "execution_count": null,
   "metadata": {},
   "outputs": [],
   "source": [
    "print(f\"number of reviews: {reviews.shape}\")\n",
    "print(f\"columns: {list(reviews.columns)}\")\n",
    "print(f\"unique items: {len(pd.unique(reviews.beer_id))}\")\n",
    "print(f\"unique reviewers: {len(pd.unique(reviews.username))}\")\n",
    "print(f\"Sparsity: {round(100*reviews.shape[0] / (len(pd.unique(reviews.beer_id)) * len(pd.unique(reviews.username))), 3)}%\")"
   ]
  },
  {
   "cell_type": "markdown",
   "metadata": {},
   "source": [
    "## 1.4 Recipes reviews\n",
    "Has had some preprocessing done already, PP_user stores details of which techniques a user has tried, which recipes they've tried and the ratings they gave.\n",
    "\n",
    "Pros\n",
    "+ Many reviews\n",
    "+ Feature data\n",
    "\n",
    "Mediums\n",
    "* Temporal context data\n",
    "\n",
    "Cons\n",
    "- Implicit data\n",
    "- Density"
   ]
  },
  {
   "cell_type": "code",
   "execution_count": null,
   "metadata": {},
   "outputs": [],
   "source": [
    "recipes = pd.read_csv('../data-recipes/RAW_recipes.csv')\n",
    "recipe_reviews = pd.read_csv('../data-recipes/RAW_interactions.csv')\n",
    "# pp_recipes = pd.read_csv('../data-recipes/PP_recipes.csv')\n",
    "# pp_users = pd.read_csv('../data-recipes/PP_users.csv')"
   ]
  },
  {
   "cell_type": "code",
   "execution_count": null,
   "metadata": {},
   "outputs": [],
   "source": [
    "recipes.head()\n",
    "# recipe_reviews.head()"
   ]
  },
  {
   "cell_type": "code",
   "execution_count": null,
   "metadata": {},
   "outputs": [],
   "source": [
    "print(f\"number of reviews: {recipe_reviews.shape}\")\n",
    "print(f\"columns: {list(recipe_reviews.columns)}\")\n",
    "print(f\"unique items: {len(pd.unique(recipe_reviews.recipe_id))}\")\n",
    "print(f\"unique reviewers: {len(pd.unique(recipe_reviews.recipe_id))}\")\n",
    "print(f\"Sparsity: {round(100*recipe_reviews.shape[0] / (len(pd.unique(recipe_reviews.recipe_id)) * len(pd.unique(recipe_reviews.user_id))), 3)}%\")"
   ]
  },
  {
   "cell_type": "markdown",
   "metadata": {},
   "source": [
    "## 1.5 Data wine reviews\n",
    "Pros\n",
    "+ Density\n",
    "+ Many reviews\n",
    "+ Only 20 users\n",
    "+ Feature data\n",
    "\n",
    "Cons\n",
    "- Contextual data\n",
    "- Implicit data"
   ]
  },
  {
   "cell_type": "code",
   "execution_count": null,
   "metadata": {},
   "outputs": [],
   "source": [
    "wine130 = pd.read_csv('../data-wine-reviews/winemag-data-130k-v2.csv')"
   ]
  },
  {
   "cell_type": "code",
   "execution_count": null,
   "metadata": {},
   "outputs": [],
   "source": [
    "# wine130.head()\n",
    "# wine130[wine130['taster_twitter_handle'] == '@kerinokeefe']\n",
    "# wine130[wine130['title'] == 'COS 2013 Frappato (Sicilia)']"
   ]
  },
  {
   "cell_type": "code",
   "execution_count": null,
   "metadata": {},
   "outputs": [],
   "source": [
    "print(f\"number of reviews: {wine130.shape}\")\n",
    "print(f\"columns: {list(wine130.columns)}\")\n",
    "print(f\"unique items: {len(pd.unique(wine130.title))}\")\n",
    "print(f\"unique reviewers: {len(pd.unique(wine130.taster_name))}\")\n",
    "print(f\"Sparsity: {round(100*wine130.shape[0] / (len(pd.unique(wine130.title)) * len(pd.unique(wine130.taster_name))),3)}%\")"
   ]
  },
  {
   "cell_type": "markdown",
   "metadata": {},
   "source": [
    "## 1.6 Yelp reviews\n",
    "Because there are so many i've used ```$ head -1500000 yelp_academic_dataset_review.json > review_small.json``` to cut down the memory requirements. I then run make_valid to tidy this up.\n",
    "\n",
    "Pros\n",
    "+ Many reviews\n",
    "+ Feature data\n",
    "\n",
    "Mediums\n",
    "* Context data (temporal)\n",
    "\n",
    "Cons\n",
    "- Implicit data\n",
    "- A bit sparse\n"
   ]
  },
  {
   "cell_type": "code",
   "execution_count": null,
   "metadata": {},
   "outputs": [],
   "source": [
    "# yelp_business = pd.read_json('../data-yelp/yelp_dataset/yelp_academic_dataset_business.json')\n",
    "# yelp_user = pd.read_json('data-yelp/yelp_dataset/yelp_academic_dataset_user.json')\n",
    "# yelp_reviews = pd.read_json('data-yelp/yelp_dataset/yelp_academic_dataset_review.json')"
   ]
  },
  {
   "cell_type": "code",
   "execution_count": 1,
   "metadata": {},
   "outputs": [],
   "source": [
    "def make_valid(json_file):\n",
    "    with open(json_file) as f:\n",
    "        strs = f.readlines()\n",
    "    strs = [s[:-1]+\",\\n\" for s in strs]\n",
    "    strs[-1] = strs[-1][:-2]\n",
    "    with open(json_file, 'w') as f:\n",
    "        f.write('[\\n')\n",
    "        f.writelines(strs)\n",
    "        f.write('\\n]')\n",
    "\n",
    "make_valid('../data-yelp/yelp_dataset/review_small.json')"
   ]
  },
  {
   "cell_type": "code",
   "execution_count": 4,
   "metadata": {},
   "outputs": [],
   "source": [
    "yelp_reviews = pd.read_json('../data-yelp/yelp_dataset/review_small.json')"
   ]
  },
  {
   "cell_type": "code",
   "execution_count": 5,
   "metadata": {},
   "outputs": [
    {
     "data": {
      "text/html": [
       "<div>\n",
       "<style scoped>\n",
       "    .dataframe tbody tr th:only-of-type {\n",
       "        vertical-align: middle;\n",
       "    }\n",
       "\n",
       "    .dataframe tbody tr th {\n",
       "        vertical-align: top;\n",
       "    }\n",
       "\n",
       "    .dataframe thead th {\n",
       "        text-align: right;\n",
       "    }\n",
       "</style>\n",
       "<table border=\"1\" class=\"dataframe\">\n",
       "  <thead>\n",
       "    <tr style=\"text-align: right;\">\n",
       "      <th></th>\n",
       "      <th>review_id</th>\n",
       "      <th>user_id</th>\n",
       "      <th>business_id</th>\n",
       "      <th>stars</th>\n",
       "      <th>useful</th>\n",
       "      <th>funny</th>\n",
       "      <th>cool</th>\n",
       "      <th>text</th>\n",
       "      <th>date</th>\n",
       "    </tr>\n",
       "  </thead>\n",
       "  <tbody>\n",
       "    <tr>\n",
       "      <th>0</th>\n",
       "      <td>lWC-xP3rd6obsecCYsGZRg</td>\n",
       "      <td>ak0TdVmGKo4pwqdJSTLwWw</td>\n",
       "      <td>buF9druCkbuXLX526sGELQ</td>\n",
       "      <td>4</td>\n",
       "      <td>3</td>\n",
       "      <td>1</td>\n",
       "      <td>1</td>\n",
       "      <td>Apparently Prides Osteria had a rough summer a...</td>\n",
       "      <td>2014-10-11 03:34:02</td>\n",
       "    </tr>\n",
       "    <tr>\n",
       "      <th>1</th>\n",
       "      <td>8bFej1QE5LXp4O05qjGqXA</td>\n",
       "      <td>YoVfDbnISlW0f7abNQACIg</td>\n",
       "      <td>RA4V8pr014UyUbDvI-LW2A</td>\n",
       "      <td>4</td>\n",
       "      <td>1</td>\n",
       "      <td>0</td>\n",
       "      <td>0</td>\n",
       "      <td>This store is pretty good. Not as great as Wal...</td>\n",
       "      <td>2015-07-03 20:38:25</td>\n",
       "    </tr>\n",
       "    <tr>\n",
       "      <th>2</th>\n",
       "      <td>NDhkzczKjLshODbqDoNLSg</td>\n",
       "      <td>eC5evKn1TWDyHCyQAwguUw</td>\n",
       "      <td>_sS2LBIGNT5NQb6PD1Vtjw</td>\n",
       "      <td>5</td>\n",
       "      <td>0</td>\n",
       "      <td>0</td>\n",
       "      <td>0</td>\n",
       "      <td>I called WVM on the recommendation of a couple...</td>\n",
       "      <td>2013-05-28 20:38:06</td>\n",
       "    </tr>\n",
       "    <tr>\n",
       "      <th>3</th>\n",
       "      <td>T5fAqjjFooT4V0OeZyuk1w</td>\n",
       "      <td>SFQ1jcnGguO0LYWnbbftAA</td>\n",
       "      <td>0AzLzHfOJgL7ROwhdww2ew</td>\n",
       "      <td>2</td>\n",
       "      <td>1</td>\n",
       "      <td>1</td>\n",
       "      <td>1</td>\n",
       "      <td>I've stayed at many Marriott and Renaissance M...</td>\n",
       "      <td>2010-01-08 02:29:15</td>\n",
       "    </tr>\n",
       "    <tr>\n",
       "      <th>4</th>\n",
       "      <td>sjm_uUcQVxab_EeLCqsYLg</td>\n",
       "      <td>0kA0PAJ8QFMeveQWHFqz2A</td>\n",
       "      <td>8zehGz9jnxPqXtOc7KaJxA</td>\n",
       "      <td>4</td>\n",
       "      <td>0</td>\n",
       "      <td>0</td>\n",
       "      <td>0</td>\n",
       "      <td>The food is always great here. The service fro...</td>\n",
       "      <td>2011-07-28 18:05:01</td>\n",
       "    </tr>\n",
       "  </tbody>\n",
       "</table>\n",
       "</div>"
      ],
      "text/plain": [
       "                review_id                 user_id             business_id  \\\n",
       "0  lWC-xP3rd6obsecCYsGZRg  ak0TdVmGKo4pwqdJSTLwWw  buF9druCkbuXLX526sGELQ   \n",
       "1  8bFej1QE5LXp4O05qjGqXA  YoVfDbnISlW0f7abNQACIg  RA4V8pr014UyUbDvI-LW2A   \n",
       "2  NDhkzczKjLshODbqDoNLSg  eC5evKn1TWDyHCyQAwguUw  _sS2LBIGNT5NQb6PD1Vtjw   \n",
       "3  T5fAqjjFooT4V0OeZyuk1w  SFQ1jcnGguO0LYWnbbftAA  0AzLzHfOJgL7ROwhdww2ew   \n",
       "4  sjm_uUcQVxab_EeLCqsYLg  0kA0PAJ8QFMeveQWHFqz2A  8zehGz9jnxPqXtOc7KaJxA   \n",
       "\n",
       "   stars  useful  funny  cool  \\\n",
       "0      4       3      1     1   \n",
       "1      4       1      0     0   \n",
       "2      5       0      0     0   \n",
       "3      2       1      1     1   \n",
       "4      4       0      0     0   \n",
       "\n",
       "                                                text                date  \n",
       "0  Apparently Prides Osteria had a rough summer a... 2014-10-11 03:34:02  \n",
       "1  This store is pretty good. Not as great as Wal... 2015-07-03 20:38:25  \n",
       "2  I called WVM on the recommendation of a couple... 2013-05-28 20:38:06  \n",
       "3  I've stayed at many Marriott and Renaissance M... 2010-01-08 02:29:15  \n",
       "4  The food is always great here. The service fro... 2011-07-28 18:05:01  "
      ]
     },
     "execution_count": 5,
     "metadata": {},
     "output_type": "execute_result"
    }
   ],
   "source": [
    "yelp_reviews.head()"
   ]
  },
  {
   "cell_type": "code",
   "execution_count": 6,
   "metadata": {},
   "outputs": [
    {
     "name": "stdout",
     "output_type": "stream",
     "text": [
      "number of reviews: 1500000\n",
      "columns: ['review_id', 'user_id', 'business_id', 'stars', 'useful', 'funny', 'cool', 'text', 'date']\n",
      "unique items: 31827\n",
      "unique reviewers: 731372\n",
      "Sparsity: 0.006%\n"
     ]
    }
   ],
   "source": [
    "print(f\"number of reviews: {yelp_reviews.shape[0]}\")\n",
    "print(f\"columns: {list(yelp_reviews.columns)}\")\n",
    "print(f\"unique items: {len(pd.unique(yelp_reviews.business_id))}\")\n",
    "print(f\"unique reviewers: {len(pd.unique(yelp_reviews.user_id))}\")\n",
    "print(f\"Sparsity: {round(100*yelp_reviews.shape[0] / (len(pd.unique(yelp_reviews.business_id)) * len(pd.unique(yelp_reviews.user_id))),3)}%\")"
   ]
  }
 ],
 "metadata": {
  "interpreter": {
   "hash": "7b69c4989aea567e73d9997234053f686bfd68ffa5d881bc3b186790baddb630"
  },
  "kernelspec": {
   "display_name": "Python 3.8.10 64-bit ('.rs': venv)",
   "language": "python",
   "name": "python3"
  },
  "language_info": {
   "codemirror_mode": {
    "name": "ipython",
    "version": 3
   },
   "file_extension": ".py",
   "mimetype": "text/x-python",
   "name": "python",
   "nbconvert_exporter": "python",
   "pygments_lexer": "ipython3",
   "version": "3.8.10"
  },
  "orig_nbformat": 4
 },
 "nbformat": 4,
 "nbformat_minor": 2
}
