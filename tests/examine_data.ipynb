{
 "cells": [
  {
   "cell_type": "markdown",
   "metadata": {},
   "source": [
    "# 0\n",
    "I've got a few interesting datasets, to do well in the coursework I want to implement some pretty complicated techniques so I'm going to need some pretty complicated datasets.\n",
    "\n",
    "Requirements:\n",
    "- Density\n",
    "- Many reviews\n",
    "- Feature data\n",
    "- Contextual data\n",
    "- Implicit data\n"
   ]
  },
  {
   "cell_type": "code",
   "execution_count": 1,
   "metadata": {},
   "outputs": [],
   "source": [
    "import pandas as pd\n",
    "from collections import Counter"
   ]
  },
  {
   "cell_type": "code",
   "execution_count": 4,
   "metadata": {},
   "outputs": [],
   "source": [
    "def make_df_from_count(serie,name):\n",
    "    counts = dict(Counter(serie))\n",
    "    return pd.DataFrame.from_dict(counts,orient='index').reset_index().rename(columns={'index':name,0:f'{name}_count'})"
   ]
  },
  {
   "cell_type": "markdown",
   "metadata": {},
   "source": [
    "## 1.1 Beer reviews\n",
    "Pros\n",
    "+ Feature data\n",
    "+ Many reviews\n",
    "\n",
    "Mediums\n",
    "* Temporal context data\n",
    "\n",
    "Cons\n",
    "- Density\n",
    "- Implicit data"
   ]
  },
  {
   "cell_type": "code",
   "execution_count": 3,
   "metadata": {},
   "outputs": [],
   "source": [
    "beer_reviews = pd.read_csv('../data-beer-reviews/beer_reviews.csv')\n",
    "# beer_reviews.head()"
   ]
  },
  {
   "cell_type": "code",
   "execution_count": 19,
   "metadata": {},
   "outputs": [
    {
     "name": "stdout",
     "output_type": "stream",
     "text": [
      "number of reviews: (1586614, 13)\n",
      "columns: ['brewery_id', 'brewery_name', 'review_time', 'review_overall', 'review_aroma', 'review_appearance', 'review_profilename', 'beer_style', 'review_palate', 'review_taste', 'beer_name', 'beer_abv', 'beer_beerid']\n",
      "unique items: 56857\n",
      "unique reviewers: 33388\n",
      "Sparsity: 0.084%\n",
      "beers with fewer than 2 reviews: 33.26%\n",
      "users with fewer than 2 reviews: 31.28%\n"
     ]
    }
   ],
   "source": [
    "print(f\"number of reviews: {beer_reviews.shape}\")\n",
    "print(f\"columns: {list(beer_reviews.columns)}\")\n",
    "print(f\"unique items: {len(pd.unique(beer_reviews.beer_name))}\")\n",
    "print(f\"unique reviewers: {len(pd.unique(beer_reviews.review_profilename))}\")\n",
    "print(f\"Sparsity: {round(100*beer_reviews.shape[0] / (len(pd.unique(beer_reviews.beer_name)) * len(pd.unique(beer_reviews.review_profilename))), 3)}%\")\n",
    "n = 2\n",
    "b_df = make_df_from_count(beer_reviews.beer_name,'beer_name')\n",
    "print(f\"items with fewer than {n} reviews: {round(100*len(b_df[b_df['beer_name_count'] < n])/len(b_df), 2)}%\")\n",
    "u_df = make_df_from_count(beer_reviews.review_profilename, 'review_profilename')\n",
    "print(f\"users with fewer than {n} reviews: {round(100*len(u_df[u_df['review_profilename_count'] < n])/len(u_df), 2)}%\")"
   ]
  },
  {
   "cell_type": "code",
   "execution_count": 29,
   "metadata": {},
   "outputs": [
    {
     "name": "stdout",
     "output_type": "stream",
     "text": [
      "brewery_id completeness: 100.0%\n",
      "brewery_name completeness: 99.999%\n",
      "review_time completeness: 100.0%\n",
      "review_overall completeness: 100.0%\n",
      "review_aroma completeness: 100.0%\n",
      "review_appearance completeness: 100.0%\n",
      "review_profilename completeness: 99.978%\n",
      "beer_style completeness: 100.0%\n",
      "review_palate completeness: 100.0%\n",
      "review_taste completeness: 100.0%\n",
      "beer_name completeness: 100.0%\n",
      "beer_abv completeness: 95.728%\n",
      "beer_beerid completeness: 100.0%\n"
     ]
    }
   ],
   "source": [
    "for column in list(beer_reviews.columns):\n",
    "    print(f\"{column} completeness: {round(100*(1-(beer_reviews[column].isna().sum()/beer_reviews.shape[0])),3)}%\")"
   ]
  },
  {
   "cell_type": "markdown",
   "metadata": {},
   "source": [
    "## 1.2 Beer, Liquor and Wine reviews\n",
    "Pros\n",
    "+ Density\n",
    "+ Contextual data (time, location)\n",
    "+ Implicit data\n",
    "\n",
    "Mediums\n",
    "* Feature data\n",
    "\n",
    "Cons\n",
    "- Number of reviews"
   ]
  },
  {
   "cell_type": "code",
   "execution_count": 20,
   "metadata": {},
   "outputs": [],
   "source": [
    "b_l_w1 = pd.read_csv('../data-beer-liquor-wine/wine reviews.csv')\n",
    "b_l_w2 = pd.read_csv('../data-beer-liquor-wine/447_1.csv').drop(columns=['primaryCategories', 'quantities'])\n",
    "blw = pd.concat([b_l_w1, b_l_w2])\n",
    "\n",
    "blw[\"descriptions\"] = blw[\"descriptions\"].apply(lambda s: 'Carmex' if 'Carmex' in str(s) else s)\n",
    "blw = blw[blw['descriptions'] != 'Carmex']\n",
    "\n",
    "# blw.head()"
   ]
  },
  {
   "cell_type": "code",
   "execution_count": 32,
   "metadata": {},
   "outputs": [
    {
     "name": "stdout",
     "output_type": "stream",
     "text": [
      "columns: ['id', 'asins', 'brand', 'categories', 'dateAdded', 'dateUpdated', 'descriptions', 'dimension', 'ean', 'flavors', 'keys', 'manufacturer', 'manufacturerNumber', 'name', 'reviews.date', 'reviews.dateAdded', 'reviews.dateSeen', 'reviews.didPurchase', 'reviews.doRecommend', 'reviews.id', 'reviews.numHelpful', 'reviews.rating', 'reviews.sourceURLs', 'reviews.text', 'reviews.title', 'reviews.userCity', 'reviews.userProvince', 'reviews.username', 'sizes', 'sourceURLs', 'upc', 'weight']\n",
      "number of reviews: (3076, 32)\n",
      "unique items: 358\n",
      "unique reviewers: 1466\n",
      "Sparsity: 0.586%\n",
      "beers with fewer than 2 reviews: 8.94%\n",
      "users with fewer than 2 reviews: 26.13%\n",
      "\n",
      "id completeness: 100.0%\n",
      "asins completeness: 43.27%\n",
      "brand completeness: 97.887%\n",
      "categories completeness: 100.0%\n",
      "dateAdded completeness: 100.0%\n",
      "dateUpdated completeness: 100.0%\n",
      "descriptions completeness: 92.425%\n",
      "dimension completeness: 44.278%\n",
      "ean completeness: 56.242%\n",
      "flavors completeness: 8.81%\n",
      "keys completeness: 100.0%\n",
      "manufacturer completeness: 42.393%\n",
      "manufacturerNumber completeness: 77.016%\n",
      "name completeness: 100.0%\n",
      "reviews.date completeness: 86.769%\n",
      "reviews.dateAdded completeness: 98.505%\n",
      "reviews.dateSeen completeness: 100.0%\n",
      "reviews.didPurchase completeness: 56.209%\n",
      "reviews.doRecommend completeness: 49.48%\n",
      "reviews.id completeness: 51.528%\n",
      "reviews.numHelpful completeness: 35.078%\n",
      "reviews.rating completeness: 86.183%\n",
      "reviews.sourceURLs completeness: 100.0%\n",
      "reviews.text completeness: 99.935%\n",
      "reviews.title completeness: 97.367%\n",
      "reviews.userCity completeness: 5.332%\n",
      "reviews.userProvince completeness: 0.585%\n",
      "reviews.username completeness: 99.935%\n",
      "sizes completeness: 0.878%\n",
      "sourceURLs completeness: 100.0%\n",
      "upc completeness: 92.425%\n",
      "weight completeness: 55.202%\n"
     ]
    }
   ],
   "source": [
    "print(f\"columns: {list(blw.columns)}\")\n",
    "print(f\"number of reviews: {blw.shape}\")\n",
    "print(f\"unique items: {len(pd.unique(blw.name))}\")\n",
    "print(f\"unique reviewers: {len(pd.unique(blw['reviews.username']))}\")\n",
    "print(f\"Sparsity: {round(100*blw.shape[0] / (len(pd.unique(blw.name)) * len(pd.unique(blw['reviews.username']))), 3)}%\")\n",
    "n = 2\n",
    "b_df = make_df_from_count(blw.name,'name')\n",
    "print(f\"items with fewer than {n} reviews: {round(100*len(b_df[b_df['name_count'] < n])/len(b_df), 2)}%\")\n",
    "u_df = make_df_from_count(blw['reviews.username'], 'reviews.username')\n",
    "print(f\"users with fewer than {n} reviews: {round(100*len(u_df[u_df['reviews.username_count'] < n])/len(u_df), 2)}%\\n\")\n",
    "for column in list(blw.columns):\n",
    "    print(f\"{column} completeness: {round(100*(1-(blw[column].isna().sum()/blw.shape[0])),3)}%\")"
   ]
  },
  {
   "cell_type": "markdown",
   "metadata": {},
   "source": [
    "## 1.3 Beers and Breweries reviews\n",
    "Pros\n",
    "+ Many reviews\n",
    "\n",
    "Mediums\n",
    "* Temporal context data\n",
    "\n",
    "Cons\n",
    "- Feature data\n",
    "- Implicit data\n",
    "- Density"
   ]
  },
  {
   "cell_type": "code",
   "execution_count": 34,
   "metadata": {},
   "outputs": [],
   "source": [
    "beers = pd.read_csv('../data-beers-breweries-reviews/beers.csv')\n",
    "breweries = pd.read_csv('../data-beers-breweries-reviews/breweries.csv')\n",
    "reviews = pd.read_csv('../data-beers-breweries-reviews/reviews.csv')\n",
    "# reviews.head()"
   ]
  },
  {
   "cell_type": "code",
   "execution_count": 37,
   "metadata": {},
   "outputs": [
    {
     "name": "stdout",
     "output_type": "stream",
     "text": [
      "columns: ['beer_id', 'username', 'date', 'text', 'look', 'smell', 'taste', 'feel', 'overall', 'score']\n",
      "number of reviews: (9073128, 10)\n",
      "unique items: 309542\n",
      "unique reviewers: 164935\n",
      "Sparsity: 0.018%\n",
      "beers with fewer than 2 reviews: 33.23%\n",
      "users with fewer than 2 reviews: 31.64%\n",
      "\n",
      "beer_id completeness: 100.0%\n",
      "username completeness: 99.958%\n",
      "date completeness: 100.0%\n",
      "text completeness: 100.0%\n",
      "look completeness: 58.228%\n",
      "smell completeness: 58.228%\n",
      "taste completeness: 58.228%\n",
      "feel completeness: 58.228%\n",
      "overall completeness: 58.228%\n",
      "score completeness: 100.0%\n"
     ]
    }
   ],
   "source": [
    "print(f\"columns: {list(reviews.columns)}\")\n",
    "print(f\"number of reviews: {reviews.shape}\")\n",
    "print(f\"unique items: {len(pd.unique(reviews.beer_id))}\")\n",
    "print(f\"unique reviewers: {len(pd.unique(reviews.username))}\")\n",
    "print(f\"Sparsity: {round(100*reviews.shape[0] / (len(pd.unique(reviews.beer_id)) * len(pd.unique(reviews.username))), 3)}%\")\n",
    "n = 2\n",
    "b_df = make_df_from_count(reviews.beer_id,'beer_id')\n",
    "print(f\"items with fewer than {n} reviews: {round(100*len(b_df[b_df['beer_id_count'] < n])/len(b_df), 2)}%\")\n",
    "u_df = make_df_from_count(reviews['username'], 'username')\n",
    "print(f\"users with fewer than {n} reviews: {round(100*len(u_df[u_df['username_count'] < n])/len(u_df), 2)}%\\n\")\n",
    "\n",
    "for column in list(reviews.columns):\n",
    "    print(f\"{column} completeness: {round(100*(1-(reviews[column].isna().sum()/reviews.shape[0])),3)}%\")"
   ]
  },
  {
   "cell_type": "markdown",
   "metadata": {},
   "source": [
    "## 1.4 Recipes reviews\n",
    "Has had some preprocessing done already, PP_user stores details of which techniques a user has tried, which recipes they've tried and the ratings they gave.\n",
    "\n",
    "Pros\n",
    "+ Many reviews\n",
    "+ Feature data\n",
    "\n",
    "Mediums\n",
    "* Temporal context data\n",
    "\n",
    "Cons\n",
    "- Implicit data\n",
    "- Density"
   ]
  },
  {
   "cell_type": "code",
   "execution_count": 38,
   "metadata": {},
   "outputs": [],
   "source": [
    "recipes = pd.read_csv('../data-recipes/RAW_recipes.csv')\n",
    "recipe_reviews = pd.read_csv('../data-recipes/RAW_interactions.csv')\n",
    "# pp_recipes = pd.read_csv('../data-recipes/PP_recipes.csv')\n",
    "# pp_users = pd.read_csv('../data-recipes/PP_users.csv')"
   ]
  },
  {
   "cell_type": "code",
   "execution_count": 39,
   "metadata": {},
   "outputs": [],
   "source": [
    "# recipes.head()\n",
    "# recipe_reviews.head()"
   ]
  },
  {
   "cell_type": "code",
   "execution_count": 42,
   "metadata": {},
   "outputs": [
    {
     "name": "stdout",
     "output_type": "stream",
     "text": [
      "columns: ['user_id', 'recipe_id', 'date', 'rating', 'review']\n",
      "number of reviews: (1132367, 5)\n",
      "unique items: 231637\n",
      "unique reviewers: 226570\n",
      "Sparsity: 0.002%\n",
      "beers with fewer than 2 reviews: 39.7%\n",
      "users with fewer than 2 reviews: 73.38%\n",
      "\n",
      "name completeness: 100.0%\n",
      "id completeness: 100.0%\n",
      "minutes completeness: 100.0%\n",
      "contributor_id completeness: 100.0%\n",
      "submitted completeness: 100.0%\n",
      "tags completeness: 100.0%\n",
      "nutrition completeness: 100.0%\n",
      "n_steps completeness: 100.0%\n",
      "steps completeness: 100.0%\n",
      "description completeness: 97.851%\n",
      "ingredients completeness: 100.0%\n",
      "n_ingredients completeness: 100.0%\n"
     ]
    }
   ],
   "source": [
    "print(f\"columns: {list(recipe_reviews.columns)}\")\n",
    "print(f\"number of reviews: {recipe_reviews.shape}\")\n",
    "print(f\"unique items: {len(pd.unique(recipe_reviews.recipe_id))}\")\n",
    "print(f\"unique reviewers: {len(pd.unique(recipe_reviews.user_id))}\")\n",
    "print(f\"Sparsity: {round(100*recipe_reviews.shape[0] / (len(pd.unique(recipe_reviews.recipe_id)) * len(pd.unique(recipe_reviews.user_id))), 3)}%\")\n",
    "n = 2\n",
    "b_df = make_df_from_count(recipe_reviews.recipe_id,'recipe_id')\n",
    "print(f\"items with fewer than {n} reviews: {round(100*len(b_df[b_df['recipe_id_count'] < n])/len(b_df), 2)}%\")\n",
    "u_df = make_df_from_count(recipe_reviews['user_id'], 'user_id')\n",
    "print(f\"users with fewer than {n} reviews: {round(100*len(u_df[u_df['user_id_count'] < n])/len(u_df), 2)}%\\n\")\n",
    "\n",
    "for column in list(recipes.columns):\n",
    "    print(f\"{column} completeness: {round(100*(1-(recipes[column].isna().sum()/recipes.shape[0])),3)}%\")"
   ]
  },
  {
   "cell_type": "markdown",
   "metadata": {},
   "source": [
    "## 1.5 Data wine reviews\n",
    "Pros\n",
    "+ Density\n",
    "+ Many reviews\n",
    "+ Only 20 users\n",
    "+ Feature data\n",
    "\n",
    "Cons\n",
    "- Contextual data\n",
    "- Implicit data"
   ]
  },
  {
   "cell_type": "code",
   "execution_count": 46,
   "metadata": {},
   "outputs": [],
   "source": [
    "wine130 = pd.read_csv('../data-wine-reviews/winemag-data-130k-v2.csv')"
   ]
  },
  {
   "cell_type": "code",
   "execution_count": 52,
   "metadata": {},
   "outputs": [],
   "source": [
    "# wine130.head()\n",
    "# wine130[wine130['taster_twitter_handle'] == '@kerinokeefe']\n",
    "# wine130[wine130['title'] == 'COS 2013 Frappato (Sicilia)']"
   ]
  },
  {
   "cell_type": "code",
   "execution_count": 53,
   "metadata": {},
   "outputs": [
    {
     "name": "stdout",
     "output_type": "stream",
     "text": [
      "columns: ['Unnamed: 0', 'country', 'description', 'designation', 'points', 'price', 'province', 'region_1', 'region_2', 'taster_name', 'taster_twitter_handle', 'title', 'variety', 'winery']\n",
      "number of reviews: (129971, 14)\n",
      "unique items: 118840\n",
      "unique reviewers: 20\n",
      "Sparsity: 5.468%\n",
      "items with fewer than 2 reviews: 90.97%\n",
      "users with fewer than 2 reviews: 0.0%\n",
      "\n",
      "Unnamed: 0 completeness: 100.0%\n",
      "country completeness: 99.952%\n",
      "description completeness: 100.0%\n",
      "designation completeness: 71.174%\n",
      "points completeness: 100.0%\n",
      "price completeness: 93.078%\n",
      "province completeness: 99.952%\n",
      "region_1 completeness: 83.653%\n",
      "region_2 completeness: 38.863%\n",
      "taster_name completeness: 79.808%\n",
      "taster_twitter_handle completeness: 75.985%\n",
      "title completeness: 100.0%\n",
      "variety completeness: 99.999%\n",
      "winery completeness: 100.0%\n"
     ]
    }
   ],
   "source": [
    "print(f\"columns: {list(wine130.columns)}\")\n",
    "print(f\"number of reviews: {wine130.shape}\")\n",
    "print(f\"unique items: {len(pd.unique(wine130.title))}\")\n",
    "print(f\"unique reviewers: {len(pd.unique(wine130.taster_name))}\")\n",
    "print(f\"Sparsity: {round(100*wine130.shape[0] / (len(pd.unique(wine130.title)) * len(pd.unique(wine130.taster_name))),3)}%\")\n",
    "n = 2\n",
    "b_df = make_df_from_count(wine130.title,'title')\n",
    "print(f\"items with fewer than {n} reviews: {round(100*len(b_df[b_df['title_count'] < n])/len(b_df), 2)}%\")\n",
    "u_df = make_df_from_count(wine130['taster_name'], 'taster_name')\n",
    "print(f\"users with fewer than {n} reviews: {round(100*len(u_df[u_df['taster_name_count'] < n])/len(u_df), 2)}%\\n\")\n",
    "\n",
    "for column in list(wine130.columns):\n",
    "    print(f\"{column} completeness: {round(100*(1-(wine130[column].isna().sum()/wine130.shape[0])),3)}%\")"
   ]
  },
  {
   "cell_type": "markdown",
   "metadata": {},
   "source": [
    "## 1.6 Yelp reviews\n",
    "Because there are so many i've used ```$ head -1500000 yelp_academic_dataset_review.json > review.json``` to cut down the memory requirements. I then run make_valid to tidy this up.\n",
    "\n",
    "Pros\n",
    "+ Many reviews\n",
    "+ Feature data\n",
    "\n",
    "Mediums\n",
    "* Context data (temporal)\n",
    "\n",
    "Cons\n",
    "- Implicit data\n",
    "- A bit sparse\n"
   ]
  },
  {
   "cell_type": "code",
   "execution_count": 16,
   "metadata": {},
   "outputs": [],
   "source": [
    "# yelp_business = pd.read_json('../data-yelp/yelp_dataset/yelp_academic_dataset_business.json')\n",
    "# yelp_user = pd.read_json('data-yelp/yelp_dataset/yelp_academic_dataset_user.json')\n",
    "# yelp_reviews = pd.read_json('data-yelp/yelp_dataset/yelp_academic_dataset_review.json')"
   ]
  },
  {
   "cell_type": "code",
   "execution_count": 9,
   "metadata": {},
   "outputs": [],
   "source": [
    "def make_valid(json_file):\n",
    "    with open(json_file) as f:\n",
    "        strs = f.readlines()\n",
    "    strs = [s[:-1]+\",\\n\" for s in strs]\n",
    "    strs[-1] = strs[-1][:-2]\n",
    "    with open(json_file, 'w') as f:\n",
    "        f.write('[\\n')\n",
    "        f.writelines(strs)\n",
    "        f.write('\\n]')\n",
    "\n",
    "# make_valid('../data-yelp/yelp_dataset/review.json')\n",
    "# make_valid('../data-yelp/yelp_dataset/business.json')"
   ]
  },
  {
   "cell_type": "code",
   "execution_count": 12,
   "metadata": {},
   "outputs": [],
   "source": [
    "yelp_reviews = pd.read_json('../data-yelp/yelp_dataset/review.json')\n",
    "yelp_business = pd.read_json('../data-yelp/yelp_dataset/business.json')"
   ]
  },
  {
   "cell_type": "code",
   "execution_count": 13,
   "metadata": {},
   "outputs": [
    {
     "data": {
      "text/html": [
       "<div>\n",
       "<style scoped>\n",
       "    .dataframe tbody tr th:only-of-type {\n",
       "        vertical-align: middle;\n",
       "    }\n",
       "\n",
       "    .dataframe tbody tr th {\n",
       "        vertical-align: top;\n",
       "    }\n",
       "\n",
       "    .dataframe thead th {\n",
       "        text-align: right;\n",
       "    }\n",
       "</style>\n",
       "<table border=\"1\" class=\"dataframe\">\n",
       "  <thead>\n",
       "    <tr style=\"text-align: right;\">\n",
       "      <th></th>\n",
       "      <th>review_id</th>\n",
       "      <th>user_id</th>\n",
       "      <th>business_id</th>\n",
       "      <th>stars</th>\n",
       "      <th>useful</th>\n",
       "      <th>funny</th>\n",
       "      <th>cool</th>\n",
       "      <th>text</th>\n",
       "      <th>date</th>\n",
       "    </tr>\n",
       "  </thead>\n",
       "  <tbody>\n",
       "    <tr>\n",
       "      <th>0</th>\n",
       "      <td>lWC-xP3rd6obsecCYsGZRg</td>\n",
       "      <td>ak0TdVmGKo4pwqdJSTLwWw</td>\n",
       "      <td>buF9druCkbuXLX526sGELQ</td>\n",
       "      <td>4</td>\n",
       "      <td>3</td>\n",
       "      <td>1</td>\n",
       "      <td>1</td>\n",
       "      <td>Apparently Prides Osteria had a rough summer a...</td>\n",
       "      <td>2014-10-11 03:34:02</td>\n",
       "    </tr>\n",
       "    <tr>\n",
       "      <th>1</th>\n",
       "      <td>8bFej1QE5LXp4O05qjGqXA</td>\n",
       "      <td>YoVfDbnISlW0f7abNQACIg</td>\n",
       "      <td>RA4V8pr014UyUbDvI-LW2A</td>\n",
       "      <td>4</td>\n",
       "      <td>1</td>\n",
       "      <td>0</td>\n",
       "      <td>0</td>\n",
       "      <td>This store is pretty good. Not as great as Wal...</td>\n",
       "      <td>2015-07-03 20:38:25</td>\n",
       "    </tr>\n",
       "    <tr>\n",
       "      <th>2</th>\n",
       "      <td>NDhkzczKjLshODbqDoNLSg</td>\n",
       "      <td>eC5evKn1TWDyHCyQAwguUw</td>\n",
       "      <td>_sS2LBIGNT5NQb6PD1Vtjw</td>\n",
       "      <td>5</td>\n",
       "      <td>0</td>\n",
       "      <td>0</td>\n",
       "      <td>0</td>\n",
       "      <td>I called WVM on the recommendation of a couple...</td>\n",
       "      <td>2013-05-28 20:38:06</td>\n",
       "    </tr>\n",
       "    <tr>\n",
       "      <th>3</th>\n",
       "      <td>T5fAqjjFooT4V0OeZyuk1w</td>\n",
       "      <td>SFQ1jcnGguO0LYWnbbftAA</td>\n",
       "      <td>0AzLzHfOJgL7ROwhdww2ew</td>\n",
       "      <td>2</td>\n",
       "      <td>1</td>\n",
       "      <td>1</td>\n",
       "      <td>1</td>\n",
       "      <td>I've stayed at many Marriott and Renaissance M...</td>\n",
       "      <td>2010-01-08 02:29:15</td>\n",
       "    </tr>\n",
       "    <tr>\n",
       "      <th>4</th>\n",
       "      <td>sjm_uUcQVxab_EeLCqsYLg</td>\n",
       "      <td>0kA0PAJ8QFMeveQWHFqz2A</td>\n",
       "      <td>8zehGz9jnxPqXtOc7KaJxA</td>\n",
       "      <td>4</td>\n",
       "      <td>0</td>\n",
       "      <td>0</td>\n",
       "      <td>0</td>\n",
       "      <td>The food is always great here. The service fro...</td>\n",
       "      <td>2011-07-28 18:05:01</td>\n",
       "    </tr>\n",
       "  </tbody>\n",
       "</table>\n",
       "</div>"
      ],
      "text/plain": [
       "                review_id                 user_id             business_id  \\\n",
       "0  lWC-xP3rd6obsecCYsGZRg  ak0TdVmGKo4pwqdJSTLwWw  buF9druCkbuXLX526sGELQ   \n",
       "1  8bFej1QE5LXp4O05qjGqXA  YoVfDbnISlW0f7abNQACIg  RA4V8pr014UyUbDvI-LW2A   \n",
       "2  NDhkzczKjLshODbqDoNLSg  eC5evKn1TWDyHCyQAwguUw  _sS2LBIGNT5NQb6PD1Vtjw   \n",
       "3  T5fAqjjFooT4V0OeZyuk1w  SFQ1jcnGguO0LYWnbbftAA  0AzLzHfOJgL7ROwhdww2ew   \n",
       "4  sjm_uUcQVxab_EeLCqsYLg  0kA0PAJ8QFMeveQWHFqz2A  8zehGz9jnxPqXtOc7KaJxA   \n",
       "\n",
       "   stars  useful  funny  cool  \\\n",
       "0      4       3      1     1   \n",
       "1      4       1      0     0   \n",
       "2      5       0      0     0   \n",
       "3      2       1      1     1   \n",
       "4      4       0      0     0   \n",
       "\n",
       "                                                text                date  \n",
       "0  Apparently Prides Osteria had a rough summer a... 2014-10-11 03:34:02  \n",
       "1  This store is pretty good. Not as great as Wal... 2015-07-03 20:38:25  \n",
       "2  I called WVM on the recommendation of a couple... 2013-05-28 20:38:06  \n",
       "3  I've stayed at many Marriott and Renaissance M... 2010-01-08 02:29:15  \n",
       "4  The food is always great here. The service fro... 2011-07-28 18:05:01  "
      ]
     },
     "execution_count": 13,
     "metadata": {},
     "output_type": "execute_result"
    }
   ],
   "source": [
    "yelp_reviews.head()"
   ]
  },
  {
   "cell_type": "code",
   "execution_count": 14,
   "metadata": {},
   "outputs": [
    {
     "name": "stdout",
     "output_type": "stream",
     "text": [
      "columns: ['review_id', 'user_id', 'business_id', 'stars', 'useful', 'funny', 'cool', 'text', 'date']\n",
      "number of reviews: 1000000\n",
      "unique items: 28085\n",
      "unique reviewers: 551746\n",
      "Sparsity: 0.006%\n",
      "items with fewer than 2 reviews: 9.13%\n",
      "users with fewer than 2 reviews: 71.97%\n",
      "\n",
      "business_id completeness: 100.0%\n",
      "name completeness: 100.0%\n",
      "address completeness: 100.0%\n",
      "city completeness: 100.0%\n",
      "state completeness: 100.0%\n",
      "postal_code completeness: 100.0%\n",
      "latitude completeness: 100.0%\n",
      "longitude completeness: 100.0%\n",
      "stars completeness: 100.0%\n",
      "review_count completeness: 100.0%\n",
      "is_open completeness: 100.0%\n",
      "attributes completeness: 90.664%\n",
      "categories completeness: 99.928%\n",
      "hours completeness: 82.974%\n"
     ]
    }
   ],
   "source": [
    "print(f\"columns: {list(yelp_reviews.columns)}\")\n",
    "print(f\"number of reviews: {yelp_reviews.shape[0]}\")\n",
    "print(f\"unique items: {len(pd.unique(yelp_reviews.business_id))}\")\n",
    "print(f\"unique reviewers: {len(pd.unique(yelp_reviews.user_id))}\")\n",
    "print(f\"Sparsity: {round(100*yelp_reviews.shape[0] / (len(pd.unique(yelp_reviews.business_id)) * len(pd.unique(yelp_reviews.user_id))),3)}%\")\n",
    "n = 2\n",
    "b_df = make_df_from_count(yelp_reviews.business_id,'business_id')\n",
    "print(f\"items with fewer than {n} reviews: {round(100*len(b_df[b_df['business_id_count'] < n])/len(b_df), 2)}%\")\n",
    "u_df = make_df_from_count(yelp_reviews['user_id'], 'user_id')\n",
    "print(f\"users with fewer than {n} reviews: {round(100*len(u_df[u_df['user_id_count'] < n])/len(u_df), 2)}%\\n\")\n",
    "\n",
    "for column in list(yelp_business.columns):\n",
    "    print(f\"{column} completeness: {round(100*(1-(yelp_business[column].isna().sum()/yelp_business.shape[0])),3)}%\")"
   ]
  }
 ],
 "metadata": {
  "interpreter": {
   "hash": "7b69c4989aea567e73d9997234053f686bfd68ffa5d881bc3b186790baddb630"
  },
  "kernelspec": {
   "display_name": "Python 3.8.10 64-bit ('.rs': venv)",
   "language": "python",
   "name": "python3"
  },
  "language_info": {
   "codemirror_mode": {
    "name": "ipython",
    "version": 3
   },
   "file_extension": ".py",
   "mimetype": "text/x-python",
   "name": "python",
   "nbconvert_exporter": "python",
   "pygments_lexer": "ipython3",
   "version": "3.8.10"
  },
  "orig_nbformat": 4
 },
 "nbformat": 4,
 "nbformat_minor": 2
}
