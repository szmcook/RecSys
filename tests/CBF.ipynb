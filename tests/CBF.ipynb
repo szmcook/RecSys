{
 "cells": [
  {
   "cell_type": "code",
   "execution_count": 1,
   "metadata": {},
   "outputs": [],
   "source": [
    "import pandas as pd"
   ]
  },
  {
   "cell_type": "code",
   "execution_count": 9,
   "metadata": {},
   "outputs": [
    {
     "name": "stdout",
     "output_type": "stream",
     "text": [
      "recipes shape: (231637, 12) and headings: Index(['name', 'id', 'minutes', 'contributor_id', 'submitted', 'tags',\n",
      "       'nutrition', 'n_steps', 'steps', 'description', 'ingredients',\n",
      "       'n_ingredients'],\n",
      "      dtype='object')\n",
      "ratings shape: (1132367, 5) and headings: Index(['user_id', 'recipe_id', 'date', 'rating', 'review'], dtype='object')\n"
     ]
    }
   ],
   "source": [
    "recipes = pd.read_csv(\"data/RAW_recipes.csv\")\n",
    "ratings = pd.read_csv(\"data/RAW_interactions.csv\")\n",
    "\n",
    "print(f\"recipes shape: {recipes.shape} and headings: {recipes.columns}\")\n",
    "print(f\"ratings shape: {ratings.shape} and headings: {ratings.columns}\")"
   ]
  },
  {
   "cell_type": "code",
   "execution_count": 13,
   "metadata": {},
   "outputs": [
    {
     "data": {
      "text/plain": [
       "name                 1\n",
       "id                   0\n",
       "minutes              0\n",
       "contributor_id       0\n",
       "submitted            0\n",
       "tags                 0\n",
       "nutrition            0\n",
       "n_steps              0\n",
       "steps                0\n",
       "description       4979\n",
       "ingredients          0\n",
       "n_ingredients        0\n",
       "dtype: int64"
      ]
     },
     "execution_count": 13,
     "metadata": {},
     "output_type": "execute_result"
    }
   ],
   "source": [
    "# Looking for missing values\n",
    "recipes.isna().sum()\n",
    "ratings.isna().sum()"
   ]
  },
  {
   "cell_type": "markdown",
   "metadata": {},
   "source": [
    "# Data Cleaning\n",
    "To clean the data I want a function that can be applied to each row of the dataset with the .apply() method"
   ]
  },
  {
   "cell_type": "code",
   "execution_count": null,
   "metadata": {},
   "outputs": [],
   "source": []
  },
  {
   "cell_type": "markdown",
   "metadata": {},
   "source": [
    "# Feature Selection"
   ]
  }
 ],
 "metadata": {
  "interpreter": {
   "hash": "7b69c4989aea567e73d9997234053f686bfd68ffa5d881bc3b186790baddb630"
  },
  "kernelspec": {
   "display_name": "Python 3.8.10 64-bit ('.rs': venv)",
   "language": "python",
   "name": "python3"
  },
  "language_info": {
   "codemirror_mode": {
    "name": "ipython",
    "version": 3
   },
   "file_extension": ".py",
   "mimetype": "text/x-python",
   "name": "python",
   "nbconvert_exporter": "python",
   "pygments_lexer": "ipython3",
   "version": "3.8.10"
  },
  "orig_nbformat": 4
 },
 "nbformat": 4,
 "nbformat_minor": 2
}
