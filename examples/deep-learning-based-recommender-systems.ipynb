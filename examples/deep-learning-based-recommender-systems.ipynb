{
 "cells": [
  {
   "cell_type": "markdown",
   "metadata": {
    "papermill": {
     "duration": 0.019347,
     "end_time": "2020-10-18T13:10:28.183161",
     "exception": false,
     "start_time": "2020-10-18T13:10:28.163814",
     "status": "completed"
    },
    "tags": []
   },
   "source": [
    "# Deep Learning based Recommender System\n",
    "\n",
    "Traditionally, recommender systems are based on methods such as clustering, nearest neighbor and matrix factorization. However, in recent years, deep learning has yielded tremendous success across multiple domains, from image recognition to natural language processing. Recommender systems have also benefited from deep learning's success. In fact, today's state-of-the-art recommender systems such as those at [YouTube](https://research.google/pubs/pub45530/) and [Amazon](https://www.amazon.science/the-history-of-amazons-recommendation-algorithm) are powered by complex deep learning systems, and less so on traditional methods."
   ]
  },
  {
   "cell_type": "markdown",
   "metadata": {
    "papermill": {
     "duration": 0.018965,
     "end_time": "2020-10-18T13:10:28.221163",
     "exception": false,
     "start_time": "2020-10-18T13:10:28.202198",
     "status": "completed"
    },
    "tags": []
   },
   "source": [
    "# Why this notebook?\n",
    "\n",
    "While reading through the many useful notebooks here that covers the basics of recommender systems using traditional methods such as matrix factorization, I noticed that there is a lack of tutorials that cover deep learning based recommender systems. In this notebook, we'll go through the following:\n",
    "\n",
    "* How to create your own deep learning based recommender system using PyTorch Lightning\n",
    "* The difference between implicit and explicit feedback for recommender systems\n",
    "* How to train-test split a dataset for training recommender systems without introducing biases and data leakages \n",
    "* Metrics for evaluating recommender systems (hint: accuracy or RMSE is not appropriate!)"
   ]
  },
  {
   "cell_type": "markdown",
   "metadata": {
    "papermill": {
     "duration": 0.018696,
     "end_time": "2020-10-18T13:10:28.259159",
     "exception": false,
     "start_time": "2020-10-18T13:10:28.240463",
     "status": "completed"
    },
    "tags": []
   },
   "source": [
    "# Building Recommender Systems using Implicit Feedback\n",
    "\n",
    "Before we build our model, it is important to understand the distinction between *implicit* and *explicit* feedback in the context of recommender systems, and why modern recommender systems are built on implicit feedback.\n",
    "\n",
    "### Explicit Feedback\n",
    "\n",
    "In the context of recommender systems, explicit feedback are **direct** and **quantitative** data collected from users. For example, Amazon allows users to rate purchased items on a scale of 1-10. These ratings are provided directly from users, and the scale allows Amazon to quantify user preference. Another example of explicit feedback includes the thumbs up button on YouTube, which captures users' explicit preference (i.e. like or dislike) of a particular video.\n",
    "\n",
    "However, the problem with explicit feedback is that they are rare. If you think about it, when was the last time you clicked the like button on a YouTube video, or rated your online purchases? Chances are, the amount of videos you watch on YouTube is far greater than the amount of videos that you have explicitly rated.\n",
    "\n",
    "### Implicit Feedback\n",
    "\n",
    "On the other hand, implicit feedback are collected indirectly from user **interactions**, and they act as a proxy for user preference. For example. videos that you watch on YouTube are used as implicit feedback to tailor recommendations for you, even if you don't rate the videos explicitly. Another example of implicit feedback includes the items that you have browsed on Amazon, which are used to suggest other similar items for you.\n",
    "\n",
    "The advantage of implicit feedback is that it is abundant. Recommender systems built using implicit feedback also allows us to tailor recommendations in real time, with every click and interaction. Today, online recommender systems are built using implicit feedback, which allows the system to tune its recommendation in real-time, with every user interaction.\n",
    "\n",
    "However, implicit feedback has its shortcomings as well. Unlike explicit feedback, every interaction is assumed to be positive and we are unable to capture negative preference from users. How then do we capture negative feedback? One technique that can be applied is negative sampling, which we will go through in a later section."
   ]
  },
  {
   "cell_type": "markdown",
   "metadata": {
    "papermill": {
     "duration": 0.019482,
     "end_time": "2020-10-18T13:10:28.297317",
     "exception": false,
     "start_time": "2020-10-18T13:10:28.277835",
     "status": "completed"
    },
    "tags": []
   },
   "source": [
    "# Data Preprocessing\n",
    "\n",
    "Before we start building and training our model, let's do some preprocessing to get the data in the required format."
   ]
  },
  {
   "cell_type": "code",
   "execution_count": 1,
   "metadata": {
    "_cell_guid": "b1076dfc-b9ad-4769-8c92-a6c4dae69d19",
    "_kg_hide-input": true,
    "_kg_hide-output": true,
    "_uuid": "8f2839f25d086af736a60e9eeb907d3b93b6e0e5",
    "execution": {
     "iopub.execute_input": "2020-10-18T13:10:28.341942Z",
     "iopub.status.busy": "2020-10-18T13:10:28.341086Z",
     "iopub.status.idle": "2020-10-18T13:10:37.053178Z",
     "shell.execute_reply": "2020-10-18T13:10:37.053823Z"
    },
    "papermill": {
     "duration": 8.737854,
     "end_time": "2020-10-18T13:10:37.054021",
     "exception": false,
     "start_time": "2020-10-18T13:10:28.316167",
     "status": "completed"
    },
    "tags": []
   },
   "outputs": [],
   "source": [
    "import pandas as pd\n",
    "import numpy as np\n",
    "from tqdm.notebook import tqdm\n",
    "\n",
    "import torch\n",
    "import torch.nn as nn\n",
    "from torch.utils.data import Dataset, DataLoader\n",
    "import pytorch_lightning as pl\n",
    "\n",
    "np.random.seed(123)"
   ]
  },
  {
   "cell_type": "markdown",
   "metadata": {
    "papermill": {
     "duration": 0.018051,
     "end_time": "2020-10-18T13:10:37.091782",
     "exception": false,
     "start_time": "2020-10-18T13:10:37.073731",
     "status": "completed"
    },
    "tags": []
   },
   "source": [
    "First, we import the ratings dataset."
   ]
  },
  {
   "cell_type": "code",
   "execution_count": 2,
   "metadata": {
    "execution": {
     "iopub.execute_input": "2020-10-18T13:10:37.142959Z",
     "iopub.status.busy": "2020-10-18T13:10:37.142286Z",
     "iopub.status.idle": "2020-10-18T13:11:39.118428Z",
     "shell.execute_reply": "2020-10-18T13:11:39.117118Z"
    },
    "papermill": {
     "duration": 62.008787,
     "end_time": "2020-10-18T13:11:39.118575",
     "exception": false,
     "start_time": "2020-10-18T13:10:37.109788",
     "status": "completed"
    },
    "tags": []
   },
   "outputs": [],
   "source": [
    "ratings = pd.read_csv('/kaggle/input/movielens-20m-dataset/rating.csv', \n",
    "                      parse_dates=['timestamp'])"
   ]
  },
  {
   "cell_type": "markdown",
   "metadata": {
    "papermill": {
     "duration": 0.018883,
     "end_time": "2020-10-18T13:11:39.157211",
     "exception": false,
     "start_time": "2020-10-18T13:11:39.138328",
     "status": "completed"
    },
    "tags": []
   },
   "source": [
    "In order to keep memory usage manageable within Kaggle's kernel, we will only use data from 30% of the users in this dataset. Let's randomly select 30% of the users and only use data from the selected users."
   ]
  },
  {
   "cell_type": "code",
   "execution_count": 3,
   "metadata": {
    "execution": {
     "iopub.execute_input": "2020-10-18T13:11:39.207749Z",
     "iopub.status.busy": "2020-10-18T13:11:39.203842Z",
     "iopub.status.idle": "2020-10-18T13:11:40.744315Z",
     "shell.execute_reply": "2020-10-18T13:11:40.745111Z"
    },
    "papermill": {
     "duration": 1.56886,
     "end_time": "2020-10-18T13:11:40.745298",
     "exception": false,
     "start_time": "2020-10-18T13:11:39.176438",
     "status": "completed"
    },
    "tags": []
   },
   "outputs": [
    {
     "name": "stdout",
     "output_type": "stream",
     "text": [
      "There are 6027314 rows of data from 41547 users\n"
     ]
    }
   ],
   "source": [
    "rand_userIds = np.random.choice(ratings['userId'].unique(), \n",
    "                                size=int(len(ratings['userId'].unique())*0.3), \n",
    "                                replace=False)\n",
    "\n",
    "ratings = ratings.loc[ratings['userId'].isin(rand_userIds)]\n",
    "\n",
    "print('There are {} rows of data from {} users'.format(len(ratings), len(rand_userIds)))"
   ]
  },
  {
   "cell_type": "code",
   "execution_count": 4,
   "metadata": {
    "execution": {
     "iopub.execute_input": "2020-10-18T13:11:40.790558Z",
     "iopub.status.busy": "2020-10-18T13:11:40.789535Z",
     "iopub.status.idle": "2020-10-18T13:11:41.033586Z",
     "shell.execute_reply": "2020-10-18T13:11:41.032538Z"
    },
    "papermill": {
     "duration": 0.267479,
     "end_time": "2020-10-18T13:11:41.033716",
     "exception": false,
     "start_time": "2020-10-18T13:11:40.766237",
     "status": "completed"
    },
    "tags": []
   },
   "outputs": [
    {
     "data": {
      "text/html": [
       "<div>\n",
       "<style scoped>\n",
       "    .dataframe tbody tr th:only-of-type {\n",
       "        vertical-align: middle;\n",
       "    }\n",
       "\n",
       "    .dataframe tbody tr th {\n",
       "        vertical-align: top;\n",
       "    }\n",
       "\n",
       "    .dataframe thead th {\n",
       "        text-align: right;\n",
       "    }\n",
       "</style>\n",
       "<table border=\"1\" class=\"dataframe\">\n",
       "  <thead>\n",
       "    <tr style=\"text-align: right;\">\n",
       "      <th></th>\n",
       "      <th>userId</th>\n",
       "      <th>movieId</th>\n",
       "      <th>rating</th>\n",
       "      <th>timestamp</th>\n",
       "    </tr>\n",
       "  </thead>\n",
       "  <tbody>\n",
       "    <tr>\n",
       "      <th>3840312</th>\n",
       "      <td>26182</td>\n",
       "      <td>3704</td>\n",
       "      <td>4.0</td>\n",
       "      <td>2007-01-31 21:56:52</td>\n",
       "    </tr>\n",
       "    <tr>\n",
       "      <th>7608731</th>\n",
       "      <td>52439</td>\n",
       "      <td>3365</td>\n",
       "      <td>4.0</td>\n",
       "      <td>2004-03-21 08:02:56</td>\n",
       "    </tr>\n",
       "    <tr>\n",
       "      <th>19363634</th>\n",
       "      <td>134060</td>\n",
       "      <td>1027</td>\n",
       "      <td>3.0</td>\n",
       "      <td>2003-07-15 22:43:45</td>\n",
       "    </tr>\n",
       "    <tr>\n",
       "      <th>17181947</th>\n",
       "      <td>118860</td>\n",
       "      <td>2629</td>\n",
       "      <td>1.0</td>\n",
       "      <td>2007-11-29 21:27:08</td>\n",
       "    </tr>\n",
       "    <tr>\n",
       "      <th>9344779</th>\n",
       "      <td>64638</td>\n",
       "      <td>4723</td>\n",
       "      <td>2.0</td>\n",
       "      <td>2001-09-10 20:11:41</td>\n",
       "    </tr>\n",
       "  </tbody>\n",
       "</table>\n",
       "</div>"
      ],
      "text/plain": [
       "          userId  movieId  rating           timestamp\n",
       "3840312    26182     3704     4.0 2007-01-31 21:56:52\n",
       "7608731    52439     3365     4.0 2004-03-21 08:02:56\n",
       "19363634  134060     1027     3.0 2003-07-15 22:43:45\n",
       "17181947  118860     2629     1.0 2007-11-29 21:27:08\n",
       "9344779    64638     4723     2.0 2001-09-10 20:11:41"
      ]
     },
     "execution_count": 4,
     "metadata": {},
     "output_type": "execute_result"
    }
   ],
   "source": [
    "ratings.sample(5)"
   ]
  },
  {
   "cell_type": "markdown",
   "metadata": {
    "papermill": {
     "duration": 0.022154,
     "end_time": "2020-10-18T13:11:41.078682",
     "exception": false,
     "start_time": "2020-10-18T13:11:41.056528",
     "status": "completed"
    },
    "tags": []
   },
   "source": [
    "After filtering the dataset, there are now 6,027,314  rows of data from 41,547 users. Each row in the dataframe corresponds to a movie review made by a single user. "
   ]
  },
  {
   "cell_type": "markdown",
   "metadata": {
    "papermill": {
     "duration": 0.019875,
     "end_time": "2020-10-18T13:11:41.119023",
     "exception": false,
     "start_time": "2020-10-18T13:11:41.099148",
     "status": "completed"
    },
    "tags": []
   },
   "source": [
    "### Train-test split\n",
    "\n",
    "Along with the rating, there is also a `timestamp` column that shows the date and time the review was submitted. Using the `timestamp` column, we will implement our train-test split strategy using the leave-one-out methodology. For each user, the most recent review is used as the test set (i.e. leave one out), while the rest will be used as training data .\n",
    "\n",
    "To illustrate this, the movies reviewed by user 39,849 is shown below. The last movie reviewed by the user is the 2014 hit movie Guardians of The Galaxy. We'll use this movie as the testing data for this user, and use the rest of the reviewed movies as training data.\n",
    "\n",
    "![](https://i.imgur.com/oNJnLqU.png)\n",
    "> **Movie posters from themoviedb.org (free to use)**\n",
    "> \n",
    "\n",
    "\n",
    "\n",
    "This train-test split strategy is often used when training and evaluating recommender systems. Doing a random split would not be fair, as we could potentially be using a user's recent reviews for training and earlier reviews for testing. This introduces data leakage with a look-ahead bias, and the performance of the trained model would not be generalizable to real-world performance.\n",
    "\n",
    "The code below will split our ratings dataset into a train and test set using the leave-one-out methodology."
   ]
  },
  {
   "cell_type": "code",
   "execution_count": 5,
   "metadata": {
    "execution": {
     "iopub.execute_input": "2020-10-18T13:11:41.168561Z",
     "iopub.status.busy": "2020-10-18T13:11:41.167604Z",
     "iopub.status.idle": "2020-10-18T13:11:42.570836Z",
     "shell.execute_reply": "2020-10-18T13:11:42.569523Z"
    },
    "papermill": {
     "duration": 1.431514,
     "end_time": "2020-10-18T13:11:42.570995",
     "exception": false,
     "start_time": "2020-10-18T13:11:41.139481",
     "status": "completed"
    },
    "tags": []
   },
   "outputs": [],
   "source": [
    "ratings['rank_latest'] = ratings.groupby(['userId'])['timestamp'] \\\n",
    "                                .rank(method='first', ascending=False)\n",
    "\n",
    "train_ratings = ratings[ratings['rank_latest'] != 1]\n",
    "test_ratings = ratings[ratings['rank_latest'] == 1]\n",
    "\n",
    "# drop columns that we no longer need\n",
    "train_ratings = train_ratings[['userId', 'movieId', 'rating']]\n",
    "test_ratings = test_ratings[['userId', 'movieId', 'rating']]"
   ]
  },
  {
   "cell_type": "markdown",
   "metadata": {
    "papermill": {
     "duration": 0.020591,
     "end_time": "2020-10-18T13:11:42.612372",
     "exception": false,
     "start_time": "2020-10-18T13:11:42.591781",
     "status": "completed"
    },
    "tags": []
   },
   "source": [
    "### Converting the dataset into an implicit feedback dataset\n",
    "\n",
    "As discussed earlier, we will train a recommender system using implicit feedback. However, the MovieLens dataset that we're using is based on explicit feedback. To convert this dataset into an implicit feedback dataset, we'll simply binarize the ratings such that they are are '1' (i.e. positive class). The value of '1' represents that the user has interacted with the item.\n",
    "\n",
    "It is important to note that using implicit feedback reframes the problem that our recommender is trying to solve. Instead of trying to predict movie ratings (when using explicit feedback), we are trying to predict whether the user will interact (i.e. click/buy/watch) with each movie, with the aim of presenting to users the movies with the highest interaction likelihood.\n",
    "\n",
    "\n",
    "\n",
    "\n"
   ]
  },
  {
   "cell_type": "code",
   "execution_count": 6,
   "metadata": {
    "execution": {
     "iopub.execute_input": "2020-10-18T13:11:42.660971Z",
     "iopub.status.busy": "2020-10-18T13:11:42.659608Z",
     "iopub.status.idle": "2020-10-18T13:11:43.006423Z",
     "shell.execute_reply": "2020-10-18T13:11:43.006990Z"
    },
    "papermill": {
     "duration": 0.374109,
     "end_time": "2020-10-18T13:11:43.007136",
     "exception": false,
     "start_time": "2020-10-18T13:11:42.633027",
     "status": "completed"
    },
    "tags": []
   },
   "outputs": [
    {
     "data": {
      "text/html": [
       "<div>\n",
       "<style scoped>\n",
       "    .dataframe tbody tr th:only-of-type {\n",
       "        vertical-align: middle;\n",
       "    }\n",
       "\n",
       "    .dataframe tbody tr th {\n",
       "        vertical-align: top;\n",
       "    }\n",
       "\n",
       "    .dataframe thead th {\n",
       "        text-align: right;\n",
       "    }\n",
       "</style>\n",
       "<table border=\"1\" class=\"dataframe\">\n",
       "  <thead>\n",
       "    <tr style=\"text-align: right;\">\n",
       "      <th></th>\n",
       "      <th>userId</th>\n",
       "      <th>movieId</th>\n",
       "      <th>rating</th>\n",
       "    </tr>\n",
       "  </thead>\n",
       "  <tbody>\n",
       "    <tr>\n",
       "      <th>3411906</th>\n",
       "      <td>23263</td>\n",
       "      <td>5481</td>\n",
       "      <td>1</td>\n",
       "    </tr>\n",
       "    <tr>\n",
       "      <th>1815983</th>\n",
       "      <td>12245</td>\n",
       "      <td>5464</td>\n",
       "      <td>1</td>\n",
       "    </tr>\n",
       "    <tr>\n",
       "      <th>16198592</th>\n",
       "      <td>112109</td>\n",
       "      <td>6</td>\n",
       "      <td>1</td>\n",
       "    </tr>\n",
       "    <tr>\n",
       "      <th>13914487</th>\n",
       "      <td>96124</td>\n",
       "      <td>1247</td>\n",
       "      <td>1</td>\n",
       "    </tr>\n",
       "    <tr>\n",
       "      <th>1445807</th>\n",
       "      <td>9790</td>\n",
       "      <td>1690</td>\n",
       "      <td>1</td>\n",
       "    </tr>\n",
       "  </tbody>\n",
       "</table>\n",
       "</div>"
      ],
      "text/plain": [
       "          userId  movieId  rating\n",
       "3411906    23263     5481       1\n",
       "1815983    12245     5464       1\n",
       "16198592  112109        6       1\n",
       "13914487   96124     1247       1\n",
       "1445807     9790     1690       1"
      ]
     },
     "execution_count": 6,
     "metadata": {},
     "output_type": "execute_result"
    }
   ],
   "source": [
    "train_ratings.loc[:, 'rating'] = 1\n",
    "\n",
    "train_ratings.sample(5)"
   ]
  },
  {
   "cell_type": "markdown",
   "metadata": {
    "papermill": {
     "duration": 0.020144,
     "end_time": "2020-10-18T13:11:43.048926",
     "exception": false,
     "start_time": "2020-10-18T13:11:43.028782",
     "status": "completed"
    },
    "tags": []
   },
   "source": [
    "We do have a problem now though. After binarizing our dataset, we see that every sample in the dataset now belongs to the positive class. However we also require negative samples to train our models, to indicate movies that the user has not interacted with. We assume that such movies are those that the user are not interested in - even though this is a sweeping assumption that may not be true, it usually works out rather well in practice.\n",
    "\n",
    "The code below generates 4 negative samples for each row of data. In other words, the ratio of negative to positive samples is 4:1. This ratio is chosen arbitrarily but I found that it works rather well (feel free to find the best ratio yourself!)"
   ]
  },
  {
   "cell_type": "code",
   "execution_count": 7,
   "metadata": {
    "execution": {
     "iopub.execute_input": "2020-10-18T13:11:43.102274Z",
     "iopub.status.busy": "2020-10-18T13:11:43.101220Z",
     "iopub.status.idle": "2020-10-18T13:16:17.556739Z",
     "shell.execute_reply": "2020-10-18T13:16:17.553418Z"
    },
    "papermill": {
     "duration": 274.486305,
     "end_time": "2020-10-18T13:16:17.556896",
     "exception": false,
     "start_time": "2020-10-18T13:11:43.070591",
     "status": "completed"
    },
    "tags": []
   },
   "outputs": [
    {
     "data": {
      "application/vnd.jupyter.widget-view+json": {
       "model_id": "ab220b92a22041e48c0a79bada0169e8",
       "version_major": 2,
       "version_minor": 0
      },
      "text/plain": [
       "HBox(children=(FloatProgress(value=0.0, max=5985767.0), HTML(value='')))"
      ]
     },
     "metadata": {},
     "output_type": "display_data"
    },
    {
     "name": "stdout",
     "output_type": "stream",
     "text": [
      "\n"
     ]
    }
   ],
   "source": [
    "# Get a list of all movie IDs\n",
    "all_movieIds = ratings['movieId'].unique()\n",
    "\n",
    "# Placeholders that will hold the training data\n",
    "users, items, labels = [], [], []\n",
    "\n",
    "# This is the set of items that each user has interaction with\n",
    "user_item_set = set(zip(train_ratings['userId'], train_ratings['movieId']))\n",
    "\n",
    "# 4:1 ratio of negative to positive samples\n",
    "num_negatives = 4\n",
    "\n",
    "for (u, i) in tqdm(user_item_set):\n",
    "    users.append(u)\n",
    "    items.append(i)\n",
    "    labels.append(1) # items that the user has interacted with are positive\n",
    "    for _ in range(num_negatives):\n",
    "        # randomly select an item\n",
    "        negative_item = np.random.choice(all_movieIds) \n",
    "        # check that the user has not interacted with this item\n",
    "        while (u, negative_item) in user_item_set:\n",
    "            negative_item = np.random.choice(all_movieIds)\n",
    "        users.append(u)\n",
    "        items.append(negative_item)\n",
    "        labels.append(0) # items not interacted with are negative"
   ]
  },
  {
   "cell_type": "markdown",
   "metadata": {
    "papermill": {
     "duration": 0.021628,
     "end_time": "2020-10-18T13:16:17.601195",
     "exception": false,
     "start_time": "2020-10-18T13:16:17.579567",
     "status": "completed"
    },
    "tags": []
   },
   "source": [
    "Great! We now have the data in the format required by our model. Before we move on, let's define a PyTorch Dataset to facilitate training. The class below simply encapsulates the code we have written above into a PyTorch Dataset class."
   ]
  },
  {
   "cell_type": "code",
   "execution_count": 8,
   "metadata": {
    "execution": {
     "iopub.execute_input": "2020-10-18T13:16:17.649003Z",
     "iopub.status.busy": "2020-10-18T13:16:17.647916Z",
     "iopub.status.idle": "2020-10-18T13:16:17.663861Z",
     "shell.execute_reply": "2020-10-18T13:16:17.664392Z"
    },
    "papermill": {
     "duration": 0.041812,
     "end_time": "2020-10-18T13:16:17.664532",
     "exception": false,
     "start_time": "2020-10-18T13:16:17.622720",
     "status": "completed"
    },
    "tags": []
   },
   "outputs": [],
   "source": [
    "class MovieLensTrainDataset(Dataset):\n",
    "    \"\"\"MovieLens PyTorch Dataset for Training\n",
    "    \n",
    "    Args:\n",
    "        ratings (pd.DataFrame): Dataframe containing the movie ratings\n",
    "        all_movieIds (list): List containing all movieIds\n",
    "    \n",
    "    \"\"\"\n",
    "\n",
    "    def __init__(self, ratings, all_movieIds):\n",
    "        self.users, self.items, self.labels = self.get_dataset(ratings, all_movieIds)\n",
    "\n",
    "    def __len__(self):\n",
    "        return len(self.users)\n",
    "  \n",
    "    def __getitem__(self, idx):\n",
    "        return self.users[idx], self.items[idx], self.labels[idx]\n",
    "\n",
    "    def get_dataset(self, ratings, all_movieIds):\n",
    "        users, items, labels = [], [], []\n",
    "        user_item_set = set(zip(ratings['userId'], ratings['movieId']))\n",
    "\n",
    "        num_negatives = 4\n",
    "        for u, i in user_item_set:\n",
    "            users.append(u)\n",
    "            items.append(i)\n",
    "            labels.append(1)\n",
    "            for _ in range(num_negatives):\n",
    "                negative_item = np.random.choice(all_movieIds)\n",
    "                while (u, negative_item) in user_item_set:\n",
    "                    negative_item = np.random.choice(all_movieIds)\n",
    "                users.append(u)\n",
    "                items.append(negative_item)\n",
    "                labels.append(0)\n",
    "\n",
    "        return torch.tensor(users), torch.tensor(items), torch.tensor(labels)"
   ]
  },
  {
   "cell_type": "markdown",
   "metadata": {
    "papermill": {
     "duration": 0.022177,
     "end_time": "2020-10-18T13:16:17.708916",
     "exception": false,
     "start_time": "2020-10-18T13:16:17.686739",
     "status": "completed"
    },
    "tags": []
   },
   "source": [
    "# Our model - Neural Collaborative Filtering (NCF)\n",
    "\n",
    "While there are many deep learning based architecture for recommendation systems, I find that the framework proposed by [He et al.](https://arxiv.org/abs/1708.05031) is the most straightforward and it is simple enough to be implemented in a tutorial such as this.\n",
    "\n",
    "### User Embeddings\n",
    "\n",
    "Before we dive into the architecture of the model, let's familiarize ourselves with the concept of embeddings. An embedding is a low-dimensional space that captures the relationship of vectors from a higher dimensional space. To better understand this concept, let's take a closer look at user embeddings. \n",
    "\n",
    "Imagine that we want to represent our users according to their preference for two genres of movies - action and romance movies. Let the first dimension be how much the user likes action movies, and the second dimension be how much the user likes romance movies.\n",
    "\n",
    "![](https://i.imgur.com/XENzqXq.png)\n",
    "\n",
    "Now, assume that Bob is our first user. Bob likes action movies but isn't a fan of romance movies. To represent Bob as a two dimensional vector, we place him in the graph according to his preference.\n",
    "\n",
    "![](https://i.imgur.com/rSStTCj.png)\n",
    "\n",
    "Our next user is Joe. Joe is a huge fan of both action and romance movies. We represent Joe using a two dimensional vector just like Bob.\n",
    "\n",
    "![](https://i.imgur.com/gmmkrEU.png)\n",
    "\n",
    "This two dimensional space is known as an embedding. Essentially, the embedding reduces our users such that they can be represented in a meaningful manner in a lower dimensional space. In this embedding, users with similar movie preferences are placed near to each other, and vice versa. \n",
    "\n",
    "![](https://i.imgur.com/9s9Z7JT.png)\n",
    "\n",
    "Of course, we are not restricted to using just 2 dimensions to represent our users. We can use an arbitrary number of dimensions to represent our users. A larger number of dimensions would allow us to capture the traits of each user more accurately, at the cost of model complexity. In our code, we'll use 8 dimensions (which we will see later).\n",
    "\n",
    "### Learned Embeddings\n",
    "\n",
    "Similarly, we will use a separate item embedding layer to represent the traits of the items (i.e. movies) in a lower dimensional space. \n",
    "\n",
    "You might be wondering, how can we learn the weights of the embedding layer, such that it provides an accurate representation of users and items? In our previous example, we used Bob and Joe's preference for action and romance movies to manually create our embedding. Is there a way to learn such preferences automatically? \n",
    "\n",
    "The answer is **Collaborative Filtering** - by using the ratings dataset, we can identify similar users and movies, creating user and item embeddings learned from existing ratings.\n",
    "\n",
    "### Model Architecture\n",
    "\n",
    "Now that we have a better understanding of embeddings, we are ready to define the model architecture. As you'll see, the user and item embeddings are key to the model.\n",
    "\n",
    "<!-- ![NCF](https://i.imgur.com/EZh1HHf.png)\n",
    " -->\n",
    " \n",
    "Let's walk through the model architecture using the following training sample:\n",
    "\n",
    "| userId | movieID | interacted |\n",
    "|-|-|-|\n",
    "| 3 | 1 | 1 |\n",
    "\n",
    " \n",
    "![](https://i.imgur.com/cNWbIce.png)\n",
    "\n",
    "\n",
    "The inputs to the model are the one-hot encoded user and item vector for `userId = 3` and `movieId = 1`. Because this is a positive sample (movie actually rated by the user), the true label (`interacted`) is 1.\n",
    "\n",
    "The user input vector and item input vector are fed to the user embedding and item embedding respectively, which results in a smaller, denser user and item vectors. \n",
    "\n",
    "The embedded user and item vectors are concatenated before passing through a series of fully connected layers, which maps the concatenated embeddings into a prediction vector as output. Finally, we apply a `Sigmoid` function to obtain the most probable class. In the example above, the most probable class is 1 (positive class), since 0.8 > 0.2.\n",
    "\n",
    "\n",
    "Now, let's define this NCF model using PyTorch Lightning!"
   ]
  },
  {
   "cell_type": "code",
   "execution_count": 9,
   "metadata": {
    "execution": {
     "iopub.execute_input": "2020-10-18T13:16:17.771678Z",
     "iopub.status.busy": "2020-10-18T13:16:17.770768Z",
     "iopub.status.idle": "2020-10-18T13:16:17.773962Z",
     "shell.execute_reply": "2020-10-18T13:16:17.773387Z"
    },
    "papermill": {
     "duration": 0.042642,
     "end_time": "2020-10-18T13:16:17.774070",
     "exception": false,
     "start_time": "2020-10-18T13:16:17.731428",
     "status": "completed"
    },
    "tags": []
   },
   "outputs": [],
   "source": [
    "class NCF(pl.LightningModule):\n",
    "    \"\"\" Neural Collaborative Filtering (NCF)\n",
    "    \n",
    "        Args:\n",
    "            num_users (int): Number of unique users\n",
    "            num_items (int): Number of unique items\n",
    "            ratings (pd.DataFrame): Dataframe containing the movie ratings for training\n",
    "            all_movieIds (list): List containing all movieIds (train + test)\n",
    "    \"\"\"\n",
    "    \n",
    "    def __init__(self, num_users, num_items, ratings, all_movieIds):\n",
    "        super().__init__()\n",
    "        self.user_embedding = nn.Embedding(num_embeddings=num_users, embedding_dim=8)\n",
    "        self.item_embedding = nn.Embedding(num_embeddings=num_items, embedding_dim=8)\n",
    "        self.fc1 = nn.Linear(in_features=16, out_features=64)\n",
    "        self.fc2 = nn.Linear(in_features=64, out_features=32)\n",
    "        self.output = nn.Linear(in_features=32, out_features=1)\n",
    "        self.ratings = ratings\n",
    "        self.all_movieIds = all_movieIds\n",
    "        \n",
    "    def forward(self, user_input, item_input):\n",
    "        \n",
    "        # Pass through embedding layers\n",
    "        user_embedded = self.user_embedding(user_input)\n",
    "        item_embedded = self.item_embedding(item_input)\n",
    "\n",
    "        # Concat the two embedding layers\n",
    "        vector = torch.cat([user_embedded, item_embedded], dim=-1)\n",
    "\n",
    "        # Pass through dense layer\n",
    "        vector = nn.ReLU()(self.fc1(vector))\n",
    "        vector = nn.ReLU()(self.fc2(vector))\n",
    "\n",
    "        # Output layer\n",
    "        pred = nn.Sigmoid()(self.output(vector))\n",
    "\n",
    "        return pred\n",
    "    \n",
    "    def training_step(self, batch, batch_idx):\n",
    "        user_input, item_input, labels = batch\n",
    "        predicted_labels = self(user_input, item_input)\n",
    "        loss = nn.BCELoss()(predicted_labels, labels.view(-1, 1).float())\n",
    "        return loss\n",
    "\n",
    "    def configure_optimizers(self):\n",
    "        return torch.optim.Adam(self.parameters())\n",
    "\n",
    "    def train_dataloader(self):\n",
    "        return DataLoader(MovieLensTrainDataset(self.ratings, self.all_movieIds),\n",
    "                          batch_size=512, num_workers=4)"
   ]
  },
  {
   "cell_type": "markdown",
   "metadata": {
    "papermill": {
     "duration": 0.021993,
     "end_time": "2020-10-18T13:16:17.818681",
     "exception": false,
     "start_time": "2020-10-18T13:16:17.796688",
     "status": "completed"
    },
    "tags": []
   },
   "source": [
    "We instantiate the NCF model using the class that we have defined above."
   ]
  },
  {
   "cell_type": "code",
   "execution_count": 10,
   "metadata": {
    "execution": {
     "iopub.execute_input": "2020-10-18T13:16:17.869945Z",
     "iopub.status.busy": "2020-10-18T13:16:17.869024Z",
     "iopub.status.idle": "2020-10-18T13:16:17.966070Z",
     "shell.execute_reply": "2020-10-18T13:16:17.966596Z"
    },
    "papermill": {
     "duration": 0.126039,
     "end_time": "2020-10-18T13:16:17.966744",
     "exception": false,
     "start_time": "2020-10-18T13:16:17.840705",
     "status": "completed"
    },
    "tags": []
   },
   "outputs": [],
   "source": [
    "num_users = ratings['userId'].max()+1\n",
    "num_items = ratings['movieId'].max()+1\n",
    "\n",
    "all_movieIds = ratings['movieId'].unique()\n",
    "\n",
    "model = NCF(num_users, num_items, train_ratings, all_movieIds)"
   ]
  },
  {
   "cell_type": "markdown",
   "metadata": {
    "papermill": {
     "duration": 0.023543,
     "end_time": "2020-10-18T13:16:18.013143",
     "exception": false,
     "start_time": "2020-10-18T13:16:17.989600",
     "status": "completed"
    },
    "tags": []
   },
   "source": [
    "Let's train our NCF model for 5 epochs using the GPU. Notice that we are using the argument `reload_dataloaders_every_epoch=True`. This creates a new randomly chosen set of negative samples for each epoch, which ensures that our model is not biased by the selection of negative samples.\n",
    "\n",
    "Note: One advantage of [PyTorch Lightning](https://github.com/PyTorchLightning/pytorch-lightning) over vanilla PyTorch is that you don't need to write your own boiler plate training code. Notice how the [Trainer](https://pytorch-lightning.readthedocs.io/en/latest/trainer.html) class allows us to train our model with just a few lines of code. "
   ]
  },
  {
   "cell_type": "code",
   "execution_count": 11,
   "metadata": {
    "execution": {
     "iopub.execute_input": "2020-10-18T13:16:18.432818Z",
     "iopub.status.busy": "2020-10-18T13:16:18.431691Z",
     "iopub.status.idle": "2020-10-18T14:55:25.238323Z",
     "shell.execute_reply": "2020-10-18T14:55:25.237665Z"
    },
    "papermill": {
     "duration": 5947.202543,
     "end_time": "2020-10-18T14:55:25.238474",
     "exception": false,
     "start_time": "2020-10-18T13:16:18.035931",
     "status": "completed"
    },
    "tags": []
   },
   "outputs": [
    {
     "name": "stderr",
     "output_type": "stream",
     "text": [
      "GPU available: True, used: True\n",
      "TPU available: False, using: 0 TPU cores\n",
      "CUDA_VISIBLE_DEVICES: [0]\n",
      "\n",
      "  | Name           | Type      | Params\n",
      "---------------------------------------------\n",
      "0 | user_embedding | Embedding | 1 M   \n",
      "1 | item_embedding | Embedding | 1 M   \n",
      "2 | fc1            | Linear    | 1 K   \n",
      "3 | fc2            | Linear    | 2 K   \n",
      "4 | output         | Linear    | 33    \n"
     ]
    },
    {
     "data": {
      "application/vnd.jupyter.widget-view+json": {
       "model_id": "8f0968d126454f8e83e342356d83d9db",
       "version_major": 2,
       "version_minor": 0
      },
      "text/plain": [
       "HBox(children=(FloatProgress(value=1.0, bar_style='info', description='Training', layout=Layout(flex='2'), max…"
      ]
     },
     "metadata": {},
     "output_type": "display_data"
    },
    {
     "name": "stderr",
     "output_type": "stream",
     "text": [
      "Saving latest checkpoint..\n"
     ]
    },
    {
     "name": "stdout",
     "output_type": "stream",
     "text": [
      "\n"
     ]
    },
    {
     "data": {
      "text/plain": [
       "1"
      ]
     },
     "execution_count": 11,
     "metadata": {},
     "output_type": "execute_result"
    }
   ],
   "source": [
    "trainer = pl.Trainer(max_epochs=5, gpus=1, reload_dataloaders_every_epoch=True,\n",
    "                     progress_bar_refresh_rate=50, logger=False, checkpoint_callback=False)\n",
    "\n",
    "trainer.fit(model)"
   ]
  },
  {
   "cell_type": "markdown",
   "metadata": {
    "papermill": {
     "duration": 0.025614,
     "end_time": "2020-10-18T14:55:25.291371",
     "exception": false,
     "start_time": "2020-10-18T14:55:25.265757",
     "status": "completed"
    },
    "tags": []
   },
   "source": [
    "# Evaluating our Recommender System\n",
    "\n",
    "Now that our model is trained, we are ready to evaluate it using the test data. In traditional Machine Learning projects, we evaluate our models using metrics such as Accuracy (for classification problems) and RMSE (for regression problems). However, such metrics are too simplistic for evaluating recommender systems.\n",
    "\n",
    "To design a good metric for evaluating recommender systems, we need to first understand how modern recommender systems are used. \n",
    "\n",
    "Looking at Netflix, we see a list of recommendations like the one below:\n",
    "\n",
    "![](https://i.imgur.com/5QRWcYy.jpg)\n",
    "\n",
    "Similarly, Amazon uses a list of recommendations:\n",
    "\n",
    "![](https://i.imgur.com/XZZ2Ni8.png)\n",
    "\n",
    "The key here is that we don't need the user to interact on *every* single item in the list of recommendations. Instead, we just need the user to interact with at least one item on the list - as long as the user does that, the recommendations have worked.\n",
    "\n",
    "To simulate this, let's run the following evaluation protocol to generate a list of 10 recommended items for each user.\n",
    "\n",
    "* For each user, randomly select 99 items that the user **has not interacted with**\n",
    "* Combine these 99 items with the test item (the actual item that the user interacted with). We now have 100 items.\n",
    "* Run the model on these 100 items, and rank them according to their predicted probabilities\n",
    "* Select the top 10 items from the list of 100 items. If the test item is present within the top 10 items, then we say that this is a hit.\n",
    "* Repeat the process for all users. The Hit Ratio is then the average hits.\n",
    "\n",
    "This evaluation protocol is known as **Hit Ratio @ 10**, and it is commonly used to evaluate recommender systems. "
   ]
  },
  {
   "cell_type": "markdown",
   "metadata": {
    "papermill": {
     "duration": 0.025582,
     "end_time": "2020-10-18T14:55:25.342644",
     "exception": false,
     "start_time": "2020-10-18T14:55:25.317062",
     "status": "completed"
    },
    "tags": []
   },
   "source": [
    "### Hit Ratio @ 10 \n",
    "\n",
    "Now, let's evaluate our model using the described protocol."
   ]
  },
  {
   "cell_type": "code",
   "execution_count": 12,
   "metadata": {
    "execution": {
     "iopub.execute_input": "2020-10-18T14:55:25.436740Z",
     "iopub.status.busy": "2020-10-18T14:55:25.435748Z",
     "iopub.status.idle": "2020-10-18T15:04:51.838863Z",
     "shell.execute_reply": "2020-10-18T15:04:51.839391Z"
    },
    "papermill": {
     "duration": 566.471637,
     "end_time": "2020-10-18T15:04:51.839576",
     "exception": false,
     "start_time": "2020-10-18T14:55:25.367939",
     "status": "completed"
    },
    "tags": []
   },
   "outputs": [
    {
     "data": {
      "application/vnd.jupyter.widget-view+json": {
       "model_id": "451928e0f1c24e529b611633bc3423fc",
       "version_major": 2,
       "version_minor": 0
      },
      "text/plain": [
       "HBox(children=(FloatProgress(value=0.0, max=41547.0), HTML(value='')))"
      ]
     },
     "metadata": {},
     "output_type": "display_data"
    },
    {
     "name": "stdout",
     "output_type": "stream",
     "text": [
      "\n",
      "The Hit Ratio @ 10 is 0.86\n"
     ]
    }
   ],
   "source": [
    "# User-item pairs for testing\n",
    "test_user_item_set = set(zip(test_ratings['userId'], test_ratings['movieId']))\n",
    "\n",
    "# Dict of all items that are interacted with by each user\n",
    "user_interacted_items = ratings.groupby('userId')['movieId'].apply(list).to_dict()\n",
    "\n",
    "hits = []\n",
    "for (u,i) in tqdm(test_user_item_set):\n",
    "    interacted_items = user_interacted_items[u]\n",
    "    not_interacted_items = set(all_movieIds) - set(interacted_items)\n",
    "    selected_not_interacted = list(np.random.choice(list(not_interacted_items), 99))\n",
    "    test_items = selected_not_interacted + [i]\n",
    "    \n",
    "    predicted_labels = np.squeeze(model(torch.tensor([u]*100), \n",
    "                                        torch.tensor(test_items)).detach().numpy())\n",
    "    \n",
    "    top10_items = [test_items[i] for i in np.argsort(predicted_labels)[::-1][0:10].tolist()]\n",
    "    \n",
    "    if i in top10_items:\n",
    "        hits.append(1)\n",
    "    else:\n",
    "        hits.append(0)\n",
    "        \n",
    "print(\"The Hit Ratio @ 10 is {:.2f}\".format(np.average(hits)))"
   ]
  },
  {
   "cell_type": "markdown",
   "metadata": {
    "papermill": {
     "duration": 0.026475,
     "end_time": "2020-10-18T15:04:51.892783",
     "exception": false,
     "start_time": "2020-10-18T15:04:51.866308",
     "status": "completed"
    },
    "tags": []
   },
   "source": [
    "We got a pretty good Hit Ratio @ 10 score! To put this into context, what this means is that 86% of the users were recommended the actual item (among a list of 10 items) that they eventually interacted with. Not bad!"
   ]
  },
  {
   "cell_type": "markdown",
   "metadata": {
    "papermill": {
     "duration": 0.026273,
     "end_time": "2020-10-18T15:04:51.945331",
     "exception": false,
     "start_time": "2020-10-18T15:04:51.919058",
     "status": "completed"
    },
    "tags": []
   },
   "source": [
    "# What's Next?\n",
    "\n",
    "I hope that this has been an useful introduction to creating a deep learning based recommender systems. To learn more, I recommend the following resources:\n",
    "* [Wide & Deep Learning - Model introduced by Google for Recommender Systems](https://ai.googleblog.com/2016/06/wide-deep-learning-better-together-with.html)\n",
    "* [Recommenders library by Microsoft - Best practices for Recommender Systems](https://github.com/microsoft/recommenders)\n",
    "* [Deep Learning based Recommender Systems - Useful survey paper](https://arxiv.org/pdf/1707.07435.pdf)"
   ]
  }
 ],
 "metadata": {
  "kernelspec": {
   "display_name": "Python 3",
   "language": "python",
   "name": "python3"
  },
  "language_info": {
   "codemirror_mode": {
    "name": "ipython",
    "version": 3
   },
   "file_extension": ".py",
   "mimetype": "text/x-python",
   "name": "python",
   "nbconvert_exporter": "python",
   "pygments_lexer": "ipython3",
   "version": "3.7.6"
  },
  "papermill": {
   "duration": 6869.598333,
   "end_time": "2020-10-18T15:04:53.184752",
   "environment_variables": {},
   "exception": null,
   "input_path": "__notebook__.ipynb",
   "output_path": "__notebook__.ipynb",
   "parameters": {},
   "start_time": "2020-10-18T13:10:23.586419",
   "version": "2.1.0"
  },
  "widgets": {
   "application/vnd.jupyter.widget-state+json": {
    "state": {
     "0e32ff38521943eba9d970f622034bbe": {
      "model_module": "@jupyter-widgets/base",
      "model_module_version": "1.2.0",
      "model_name": "LayoutModel",
      "state": {
       "_model_module": "@jupyter-widgets/base",
       "_model_module_version": "1.2.0",
       "_model_name": "LayoutModel",
       "_view_count": null,
       "_view_module": "@jupyter-widgets/base",
       "_view_module_version": "1.2.0",
       "_view_name": "LayoutView",
       "align_content": null,
       "align_items": null,
       "align_self": null,
       "border": null,
       "bottom": null,
       "display": null,
       "flex": null,
       "flex_flow": null,
       "grid_area": null,
       "grid_auto_columns": null,
       "grid_auto_flow": null,
       "grid_auto_rows": null,
       "grid_column": null,
       "grid_gap": null,
       "grid_row": null,
       "grid_template_areas": null,
       "grid_template_columns": null,
       "grid_template_rows": null,
       "height": null,
       "justify_content": null,
       "justify_items": null,
       "left": null,
       "margin": null,
       "max_height": null,
       "max_width": null,
       "min_height": null,
       "min_width": null,
       "object_fit": null,
       "object_position": null,
       "order": null,
       "overflow": null,
       "overflow_x": null,
       "overflow_y": null,
       "padding": null,
       "right": null,
       "top": null,
       "visibility": null,
       "width": null
      }
     },
     "0effc1ef195347258ca5278b00226896": {
      "model_module": "@jupyter-widgets/controls",
      "model_module_version": "1.5.0",
      "model_name": "DescriptionStyleModel",
      "state": {
       "_model_module": "@jupyter-widgets/controls",
       "_model_module_version": "1.5.0",
       "_model_name": "DescriptionStyleModel",
       "_view_count": null,
       "_view_module": "@jupyter-widgets/base",
       "_view_module_version": "1.2.0",
       "_view_name": "StyleView",
       "description_width": ""
      }
     },
     "27f0eb94460e4f97b6c465245dbd6a66": {
      "model_module": "@jupyter-widgets/base",
      "model_module_version": "1.2.0",
      "model_name": "LayoutModel",
      "state": {
       "_model_module": "@jupyter-widgets/base",
       "_model_module_version": "1.2.0",
       "_model_name": "LayoutModel",
       "_view_count": null,
       "_view_module": "@jupyter-widgets/base",
       "_view_module_version": "1.2.0",
       "_view_name": "LayoutView",
       "align_content": null,
       "align_items": null,
       "align_self": null,
       "border": null,
       "bottom": null,
       "display": "inline-flex",
       "flex": null,
       "flex_flow": "row wrap",
       "grid_area": null,
       "grid_auto_columns": null,
       "grid_auto_flow": null,
       "grid_auto_rows": null,
       "grid_column": null,
       "grid_gap": null,
       "grid_row": null,
       "grid_template_areas": null,
       "grid_template_columns": null,
       "grid_template_rows": null,
       "height": null,
       "justify_content": null,
       "justify_items": null,
       "left": null,
       "margin": null,
       "max_height": null,
       "max_width": null,
       "min_height": null,
       "min_width": null,
       "object_fit": null,
       "object_position": null,
       "order": null,
       "overflow": null,
       "overflow_x": null,
       "overflow_y": null,
       "padding": null,
       "right": null,
       "top": null,
       "visibility": null,
       "width": "100%"
      }
     },
     "35a3c01d51114dfca1e6693803349638": {
      "model_module": "@jupyter-widgets/base",
      "model_module_version": "1.2.0",
      "model_name": "LayoutModel",
      "state": {
       "_model_module": "@jupyter-widgets/base",
       "_model_module_version": "1.2.0",
       "_model_name": "LayoutModel",
       "_view_count": null,
       "_view_module": "@jupyter-widgets/base",
       "_view_module_version": "1.2.0",
       "_view_name": "LayoutView",
       "align_content": null,
       "align_items": null,
       "align_self": null,
       "border": null,
       "bottom": null,
       "display": null,
       "flex": null,
       "flex_flow": null,
       "grid_area": null,
       "grid_auto_columns": null,
       "grid_auto_flow": null,
       "grid_auto_rows": null,
       "grid_column": null,
       "grid_gap": null,
       "grid_row": null,
       "grid_template_areas": null,
       "grid_template_columns": null,
       "grid_template_rows": null,
       "height": null,
       "justify_content": null,
       "justify_items": null,
       "left": null,
       "margin": null,
       "max_height": null,
       "max_width": null,
       "min_height": null,
       "min_width": null,
       "object_fit": null,
       "object_position": null,
       "order": null,
       "overflow": null,
       "overflow_x": null,
       "overflow_y": null,
       "padding": null,
       "right": null,
       "top": null,
       "visibility": null,
       "width": null
      }
     },
     "451928e0f1c24e529b611633bc3423fc": {
      "model_module": "@jupyter-widgets/controls",
      "model_module_version": "1.5.0",
      "model_name": "HBoxModel",
      "state": {
       "_dom_classes": [],
       "_model_module": "@jupyter-widgets/controls",
       "_model_module_version": "1.5.0",
       "_model_name": "HBoxModel",
       "_view_count": null,
       "_view_module": "@jupyter-widgets/controls",
       "_view_module_version": "1.5.0",
       "_view_name": "HBoxView",
       "box_style": "",
       "children": [
        "IPY_MODEL_e2736a47289f4a7390d986085c1310c1",
        "IPY_MODEL_6bf8fb9030414239821bcd6029d57254"
       ],
       "layout": "IPY_MODEL_7031bf6e19da443993d8d5da28a2b1a4"
      }
     },
     "59886558b1b54a309565e8794444bf3d": {
      "model_module": "@jupyter-widgets/controls",
      "model_module_version": "1.5.0",
      "model_name": "ProgressStyleModel",
      "state": {
       "_model_module": "@jupyter-widgets/controls",
       "_model_module_version": "1.5.0",
       "_model_name": "ProgressStyleModel",
       "_view_count": null,
       "_view_module": "@jupyter-widgets/base",
       "_view_module_version": "1.2.0",
       "_view_name": "StyleView",
       "bar_color": null,
       "description_width": "initial"
      }
     },
     "5ee4ef9772b84b57bac2013e1e6d6fac": {
      "model_module": "@jupyter-widgets/controls",
      "model_module_version": "1.5.0",
      "model_name": "FloatProgressModel",
      "state": {
       "_dom_classes": [],
       "_model_module": "@jupyter-widgets/controls",
       "_model_module_version": "1.5.0",
       "_model_name": "FloatProgressModel",
       "_view_count": null,
       "_view_module": "@jupyter-widgets/controls",
       "_view_module_version": "1.5.0",
       "_view_name": "ProgressView",
       "bar_style": "danger",
       "description": "Epoch 4: 100%",
       "description_tooltip": null,
       "layout": "IPY_MODEL_ae078824545a4e3ba2062ae81a67f73e",
       "max": 58455.0,
       "min": 0.0,
       "orientation": "horizontal",
       "style": "IPY_MODEL_8a485b4f5f304ea99520fcb31df85503",
       "value": 58450.0
      }
     },
     "6584f097123047279f90be07bc9e08eb": {
      "model_module": "@jupyter-widgets/base",
      "model_module_version": "1.2.0",
      "model_name": "LayoutModel",
      "state": {
       "_model_module": "@jupyter-widgets/base",
       "_model_module_version": "1.2.0",
       "_model_name": "LayoutModel",
       "_view_count": null,
       "_view_module": "@jupyter-widgets/base",
       "_view_module_version": "1.2.0",
       "_view_name": "LayoutView",
       "align_content": null,
       "align_items": null,
       "align_self": null,
       "border": null,
       "bottom": null,
       "display": null,
       "flex": null,
       "flex_flow": null,
       "grid_area": null,
       "grid_auto_columns": null,
       "grid_auto_flow": null,
       "grid_auto_rows": null,
       "grid_column": null,
       "grid_gap": null,
       "grid_row": null,
       "grid_template_areas": null,
       "grid_template_columns": null,
       "grid_template_rows": null,
       "height": null,
       "justify_content": null,
       "justify_items": null,
       "left": null,
       "margin": null,
       "max_height": null,
       "max_width": null,
       "min_height": null,
       "min_width": null,
       "object_fit": null,
       "object_position": null,
       "order": null,
       "overflow": null,
       "overflow_x": null,
       "overflow_y": null,
       "padding": null,
       "right": null,
       "top": null,
       "visibility": null,
       "width": null
      }
     },
     "6bf8fb9030414239821bcd6029d57254": {
      "model_module": "@jupyter-widgets/controls",
      "model_module_version": "1.5.0",
      "model_name": "HTMLModel",
      "state": {
       "_dom_classes": [],
       "_model_module": "@jupyter-widgets/controls",
       "_model_module_version": "1.5.0",
       "_model_name": "HTMLModel",
       "_view_count": null,
       "_view_module": "@jupyter-widgets/controls",
       "_view_module_version": "1.5.0",
       "_view_name": "HTMLView",
       "description": "",
       "description_tooltip": null,
       "layout": "IPY_MODEL_0e32ff38521943eba9d970f622034bbe",
       "placeholder": "​",
       "style": "IPY_MODEL_0effc1ef195347258ca5278b00226896",
       "value": " 41547/41547 [09:20&lt;00:00, 74.08it/s]"
      }
     },
     "7031bf6e19da443993d8d5da28a2b1a4": {
      "model_module": "@jupyter-widgets/base",
      "model_module_version": "1.2.0",
      "model_name": "LayoutModel",
      "state": {
       "_model_module": "@jupyter-widgets/base",
       "_model_module_version": "1.2.0",
       "_model_name": "LayoutModel",
       "_view_count": null,
       "_view_module": "@jupyter-widgets/base",
       "_view_module_version": "1.2.0",
       "_view_name": "LayoutView",
       "align_content": null,
       "align_items": null,
       "align_self": null,
       "border": null,
       "bottom": null,
       "display": null,
       "flex": null,
       "flex_flow": null,
       "grid_area": null,
       "grid_auto_columns": null,
       "grid_auto_flow": null,
       "grid_auto_rows": null,
       "grid_column": null,
       "grid_gap": null,
       "grid_row": null,
       "grid_template_areas": null,
       "grid_template_columns": null,
       "grid_template_rows": null,
       "height": null,
       "justify_content": null,
       "justify_items": null,
       "left": null,
       "margin": null,
       "max_height": null,
       "max_width": null,
       "min_height": null,
       "min_width": null,
       "object_fit": null,
       "object_position": null,
       "order": null,
       "overflow": null,
       "overflow_x": null,
       "overflow_y": null,
       "padding": null,
       "right": null,
       "top": null,
       "visibility": null,
       "width": null
      }
     },
     "759c504bf36c417fbc47d055f8798f81": {
      "model_module": "@jupyter-widgets/base",
      "model_module_version": "1.2.0",
      "model_name": "LayoutModel",
      "state": {
       "_model_module": "@jupyter-widgets/base",
       "_model_module_version": "1.2.0",
       "_model_name": "LayoutModel",
       "_view_count": null,
       "_view_module": "@jupyter-widgets/base",
       "_view_module_version": "1.2.0",
       "_view_name": "LayoutView",
       "align_content": null,
       "align_items": null,
       "align_self": null,
       "border": null,
       "bottom": null,
       "display": null,
       "flex": null,
       "flex_flow": null,
       "grid_area": null,
       "grid_auto_columns": null,
       "grid_auto_flow": null,
       "grid_auto_rows": null,
       "grid_column": null,
       "grid_gap": null,
       "grid_row": null,
       "grid_template_areas": null,
       "grid_template_columns": null,
       "grid_template_rows": null,
       "height": null,
       "justify_content": null,
       "justify_items": null,
       "left": null,
       "margin": null,
       "max_height": null,
       "max_width": null,
       "min_height": null,
       "min_width": null,
       "object_fit": null,
       "object_position": null,
       "order": null,
       "overflow": null,
       "overflow_x": null,
       "overflow_y": null,
       "padding": null,
       "right": null,
       "top": null,
       "visibility": null,
       "width": null
      }
     },
     "870d78f95b974c69a2ca24b042eabbe7": {
      "model_module": "@jupyter-widgets/controls",
      "model_module_version": "1.5.0",
      "model_name": "HTMLModel",
      "state": {
       "_dom_classes": [],
       "_model_module": "@jupyter-widgets/controls",
       "_model_module_version": "1.5.0",
       "_model_name": "HTMLModel",
       "_view_count": null,
       "_view_module": "@jupyter-widgets/controls",
       "_view_module_version": "1.5.0",
       "_view_name": "HTMLView",
       "description": "",
       "description_tooltip": null,
       "layout": "IPY_MODEL_759c504bf36c417fbc47d055f8798f81",
       "placeholder": "​",
       "style": "IPY_MODEL_f47b3ee0cb6341dead42537f62b9127a",
       "value": " 58450/58455 [15:43&lt;00:00, 61.95it/s, loss=0.179]"
      }
     },
     "8866b64880cc42eb8dff5c997b0b01be": {
      "model_module": "@jupyter-widgets/controls",
      "model_module_version": "1.5.0",
      "model_name": "FloatProgressModel",
      "state": {
       "_dom_classes": [],
       "_model_module": "@jupyter-widgets/controls",
       "_model_module_version": "1.5.0",
       "_model_name": "FloatProgressModel",
       "_view_count": null,
       "_view_module": "@jupyter-widgets/controls",
       "_view_module_version": "1.5.0",
       "_view_name": "ProgressView",
       "bar_style": "success",
       "description": "100%",
       "description_tooltip": null,
       "layout": "IPY_MODEL_b1a95e124cc345b98b53751aedb45751",
       "max": 5985767.0,
       "min": 0.0,
       "orientation": "horizontal",
       "style": "IPY_MODEL_59886558b1b54a309565e8794444bf3d",
       "value": 5985767.0
      }
     },
     "8a485b4f5f304ea99520fcb31df85503": {
      "model_module": "@jupyter-widgets/controls",
      "model_module_version": "1.5.0",
      "model_name": "ProgressStyleModel",
      "state": {
       "_model_module": "@jupyter-widgets/controls",
       "_model_module_version": "1.5.0",
       "_model_name": "ProgressStyleModel",
       "_view_count": null,
       "_view_module": "@jupyter-widgets/base",
       "_view_module_version": "1.2.0",
       "_view_name": "StyleView",
       "bar_color": null,
       "description_width": "initial"
      }
     },
     "8f0968d126454f8e83e342356d83d9db": {
      "model_module": "@jupyter-widgets/controls",
      "model_module_version": "1.5.0",
      "model_name": "HBoxModel",
      "state": {
       "_dom_classes": [],
       "_model_module": "@jupyter-widgets/controls",
       "_model_module_version": "1.5.0",
       "_model_name": "HBoxModel",
       "_view_count": null,
       "_view_module": "@jupyter-widgets/controls",
       "_view_module_version": "1.5.0",
       "_view_name": "HBoxView",
       "box_style": "",
       "children": [
        "IPY_MODEL_5ee4ef9772b84b57bac2013e1e6d6fac",
        "IPY_MODEL_870d78f95b974c69a2ca24b042eabbe7"
       ],
       "layout": "IPY_MODEL_27f0eb94460e4f97b6c465245dbd6a66"
      }
     },
     "99e948704bf647f9951045e3859e7105": {
      "model_module": "@jupyter-widgets/controls",
      "model_module_version": "1.5.0",
      "model_name": "ProgressStyleModel",
      "state": {
       "_model_module": "@jupyter-widgets/controls",
       "_model_module_version": "1.5.0",
       "_model_name": "ProgressStyleModel",
       "_view_count": null,
       "_view_module": "@jupyter-widgets/base",
       "_view_module_version": "1.2.0",
       "_view_name": "StyleView",
       "bar_color": null,
       "description_width": "initial"
      }
     },
     "ab220b92a22041e48c0a79bada0169e8": {
      "model_module": "@jupyter-widgets/controls",
      "model_module_version": "1.5.0",
      "model_name": "HBoxModel",
      "state": {
       "_dom_classes": [],
       "_model_module": "@jupyter-widgets/controls",
       "_model_module_version": "1.5.0",
       "_model_name": "HBoxModel",
       "_view_count": null,
       "_view_module": "@jupyter-widgets/controls",
       "_view_module_version": "1.5.0",
       "_view_name": "HBoxView",
       "box_style": "",
       "children": [
        "IPY_MODEL_8866b64880cc42eb8dff5c997b0b01be",
        "IPY_MODEL_f7ca162959ca4aff88b50755a21bbec9"
       ],
       "layout": "IPY_MODEL_6584f097123047279f90be07bc9e08eb"
      }
     },
     "ae078824545a4e3ba2062ae81a67f73e": {
      "model_module": "@jupyter-widgets/base",
      "model_module_version": "1.2.0",
      "model_name": "LayoutModel",
      "state": {
       "_model_module": "@jupyter-widgets/base",
       "_model_module_version": "1.2.0",
       "_model_name": "LayoutModel",
       "_view_count": null,
       "_view_module": "@jupyter-widgets/base",
       "_view_module_version": "1.2.0",
       "_view_name": "LayoutView",
       "align_content": null,
       "align_items": null,
       "align_self": null,
       "border": null,
       "bottom": null,
       "display": null,
       "flex": "2",
       "flex_flow": null,
       "grid_area": null,
       "grid_auto_columns": null,
       "grid_auto_flow": null,
       "grid_auto_rows": null,
       "grid_column": null,
       "grid_gap": null,
       "grid_row": null,
       "grid_template_areas": null,
       "grid_template_columns": null,
       "grid_template_rows": null,
       "height": null,
       "justify_content": null,
       "justify_items": null,
       "left": null,
       "margin": null,
       "max_height": null,
       "max_width": null,
       "min_height": null,
       "min_width": null,
       "object_fit": null,
       "object_position": null,
       "order": null,
       "overflow": null,
       "overflow_x": null,
       "overflow_y": null,
       "padding": null,
       "right": null,
       "top": null,
       "visibility": null,
       "width": null
      }
     },
     "b1a95e124cc345b98b53751aedb45751": {
      "model_module": "@jupyter-widgets/base",
      "model_module_version": "1.2.0",
      "model_name": "LayoutModel",
      "state": {
       "_model_module": "@jupyter-widgets/base",
       "_model_module_version": "1.2.0",
       "_model_name": "LayoutModel",
       "_view_count": null,
       "_view_module": "@jupyter-widgets/base",
       "_view_module_version": "1.2.0",
       "_view_name": "LayoutView",
       "align_content": null,
       "align_items": null,
       "align_self": null,
       "border": null,
       "bottom": null,
       "display": null,
       "flex": null,
       "flex_flow": null,
       "grid_area": null,
       "grid_auto_columns": null,
       "grid_auto_flow": null,
       "grid_auto_rows": null,
       "grid_column": null,
       "grid_gap": null,
       "grid_row": null,
       "grid_template_areas": null,
       "grid_template_columns": null,
       "grid_template_rows": null,
       "height": null,
       "justify_content": null,
       "justify_items": null,
       "left": null,
       "margin": null,
       "max_height": null,
       "max_width": null,
       "min_height": null,
       "min_width": null,
       "object_fit": null,
       "object_position": null,
       "order": null,
       "overflow": null,
       "overflow_x": null,
       "overflow_y": null,
       "padding": null,
       "right": null,
       "top": null,
       "visibility": null,
       "width": null
      }
     },
     "d7e64056837d43229aaf4892293c0062": {
      "model_module": "@jupyter-widgets/base",
      "model_module_version": "1.2.0",
      "model_name": "LayoutModel",
      "state": {
       "_model_module": "@jupyter-widgets/base",
       "_model_module_version": "1.2.0",
       "_model_name": "LayoutModel",
       "_view_count": null,
       "_view_module": "@jupyter-widgets/base",
       "_view_module_version": "1.2.0",
       "_view_name": "LayoutView",
       "align_content": null,
       "align_items": null,
       "align_self": null,
       "border": null,
       "bottom": null,
       "display": null,
       "flex": null,
       "flex_flow": null,
       "grid_area": null,
       "grid_auto_columns": null,
       "grid_auto_flow": null,
       "grid_auto_rows": null,
       "grid_column": null,
       "grid_gap": null,
       "grid_row": null,
       "grid_template_areas": null,
       "grid_template_columns": null,
       "grid_template_rows": null,
       "height": null,
       "justify_content": null,
       "justify_items": null,
       "left": null,
       "margin": null,
       "max_height": null,
       "max_width": null,
       "min_height": null,
       "min_width": null,
       "object_fit": null,
       "object_position": null,
       "order": null,
       "overflow": null,
       "overflow_x": null,
       "overflow_y": null,
       "padding": null,
       "right": null,
       "top": null,
       "visibility": null,
       "width": null
      }
     },
     "e2736a47289f4a7390d986085c1310c1": {
      "model_module": "@jupyter-widgets/controls",
      "model_module_version": "1.5.0",
      "model_name": "FloatProgressModel",
      "state": {
       "_dom_classes": [],
       "_model_module": "@jupyter-widgets/controls",
       "_model_module_version": "1.5.0",
       "_model_name": "FloatProgressModel",
       "_view_count": null,
       "_view_module": "@jupyter-widgets/controls",
       "_view_module_version": "1.5.0",
       "_view_name": "ProgressView",
       "bar_style": "success",
       "description": "100%",
       "description_tooltip": null,
       "layout": "IPY_MODEL_35a3c01d51114dfca1e6693803349638",
       "max": 41547.0,
       "min": 0.0,
       "orientation": "horizontal",
       "style": "IPY_MODEL_99e948704bf647f9951045e3859e7105",
       "value": 41547.0
      }
     },
     "f47b3ee0cb6341dead42537f62b9127a": {
      "model_module": "@jupyter-widgets/controls",
      "model_module_version": "1.5.0",
      "model_name": "DescriptionStyleModel",
      "state": {
       "_model_module": "@jupyter-widgets/controls",
       "_model_module_version": "1.5.0",
       "_model_name": "DescriptionStyleModel",
       "_view_count": null,
       "_view_module": "@jupyter-widgets/base",
       "_view_module_version": "1.2.0",
       "_view_name": "StyleView",
       "description_width": ""
      }
     },
     "f7ca162959ca4aff88b50755a21bbec9": {
      "model_module": "@jupyter-widgets/controls",
      "model_module_version": "1.5.0",
      "model_name": "HTMLModel",
      "state": {
       "_dom_classes": [],
       "_model_module": "@jupyter-widgets/controls",
       "_model_module_version": "1.5.0",
       "_model_name": "HTMLModel",
       "_view_count": null,
       "_view_module": "@jupyter-widgets/controls",
       "_view_module_version": "1.5.0",
       "_view_name": "HTMLView",
       "description": "",
       "description_tooltip": null,
       "layout": "IPY_MODEL_d7e64056837d43229aaf4892293c0062",
       "placeholder": "​",
       "style": "IPY_MODEL_fda6c4eda5f645a1adbe97bd0038458d",
       "value": " 5985767/5985767 [04:29&lt;00:00, 22193.16it/s]"
      }
     },
     "fda6c4eda5f645a1adbe97bd0038458d": {
      "model_module": "@jupyter-widgets/controls",
      "model_module_version": "1.5.0",
      "model_name": "DescriptionStyleModel",
      "state": {
       "_model_module": "@jupyter-widgets/controls",
       "_model_module_version": "1.5.0",
       "_model_name": "DescriptionStyleModel",
       "_view_count": null,
       "_view_module": "@jupyter-widgets/base",
       "_view_module_version": "1.2.0",
       "_view_name": "StyleView",
       "description_width": ""
      }
     }
    },
    "version_major": 2,
    "version_minor": 0
   }
  }
 },
 "nbformat": 4,
 "nbformat_minor": 4
}
